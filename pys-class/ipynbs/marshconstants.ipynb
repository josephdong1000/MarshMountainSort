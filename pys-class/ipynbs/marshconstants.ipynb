{
 "cells": [
  {
   "cell_type": "markdown",
   "metadata": {},
   "source": [
    "# Constants"
   ]
  },
  {
   "cell_type": "code",
   "execution_count": 3,
   "metadata": {
    "tags": [
     "note"
    ]
   },
   "outputs": [
    {
     "name": "stdout",
     "output_type": "stream",
     "text": [
      "[NbConvertApp] Converting notebook marshconstants.ipynb to script\n",
      "[NbConvertApp] Writing 831 bytes to /mnt/isilon/marsh_single_unit/MarshMountainSort/pys-class/mms/constants.py\n"
     ]
    }
   ],
   "source": [
    "!jupyter nbconvert --to script marshconstants.ipynb --TagRemovePreprocessor.remove_cell_tags='{\"note\"}' --output-dir /mnt/isilon/marsh_single_unit/MarshMountainSort/pys-class/mms --output constants"
   ]
  },
  {
   "cell_type": "code",
   "execution_count": 2,
   "metadata": {},
   "outputs": [],
   "source": [
    "from typing import Literal\n",
    "\n",
    "GENOTYPE_ALIASES = {'WT' : ['Wt', 'wildtype', 'Wildtype', 'Bl6'],\n",
    "                    'Exp' : ['EXP', 'exp', 'Expanded', 'GCG']}\n",
    "REGIONS = ['ca3', 'ca3o', 'ca1s', 'ca1o']\n",
    "REGION_TO_INTAN_CHANNEL = {'ca3o': [8, 9, 10, 11],\n",
    "                            'ca1o': [12, 13, 14, 15],\n",
    "                            'ca1s': [16, 17, 18, 19],\n",
    "                            'ca3': [20, 21, 22, 23]}\n",
    "REGION_TO_DATAWAVE_CHANNEL = {'ca3': [0, 1, 2, 3],\n",
    "                              'ca1o': [4, 5, 6, 7],\n",
    "                              'ca1s': [10, 11, 12, 13]}\n",
    "GLOBAL_F_S = 25000\n",
    "GLOBAL_BANDPASS = [400, 8064]\n",
    "DEPTHPLOT_TYPES = Literal['heatmap', 'location', 'waveform', 'template']\n",
    "FAST_JOB_KWARGS = dict(n_jobs=4, chunk_duration='5s', progress_bar=True)\n"
   ]
  }
 ],
 "metadata": {
  "kernelspec": {
   "display_name": ".venv",
   "language": "python",
   "name": "python3"
  },
  "language_info": {
   "codemirror_mode": {
    "name": "ipython",
    "version": 3
   },
   "file_extension": ".py",
   "mimetype": "text/x-python",
   "name": "python",
   "nbconvert_exporter": "python",
   "pygments_lexer": "ipython3",
   "version": "3.10.8"
  }
 },
 "nbformat": 4,
 "nbformat_minor": 2
}
