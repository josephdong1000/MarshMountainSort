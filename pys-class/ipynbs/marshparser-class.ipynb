{
 "cells": [
  {
   "cell_type": "markdown",
   "metadata": {},
   "source": [
    "# Parser - Class"
   ]
  },
  {
   "cell_type": "code",
   "execution_count": 1,
   "metadata": {
    "tags": [
     "note"
    ]
   },
   "outputs": [
    {
     "name": "stdout",
     "output_type": "stream",
     "text": [
      "[NbConvertApp] Converting notebook marshparser-class.ipynb to script\n",
      "[NbConvertApp] Writing 1931 bytes to /mnt/isilon/marsh_single_unit/MarshMountainSort/pys-class/mms/parser.py\n"
     ]
    }
   ],
   "source": [
    "!jupyter nbconvert --to script marshparser-class.ipynb --TagRemovePreprocessor.remove_cell_tags='{\"note\"}' --output-dir /mnt/isilon/marsh_single_unit/MarshMountainSort/pys-class/mms --output parser"
   ]
  },
  {
   "cell_type": "code",
   "execution_count": 2,
   "metadata": {
    "tags": [
     "note"
    ]
   },
   "outputs": [],
   "source": [
    "import os\n",
    "import sys\n",
    "\n",
    "sys.path.insert(0, os.path.abspath('..'))\n"
   ]
  },
  {
   "cell_type": "code",
   "execution_count": 3,
   "metadata": {},
   "outputs": [],
   "source": [
    "from pathlib import Path\n",
    "# import datetime\n",
    "# from warnings import warn\n",
    "# from abc import ABC, abstractmethod\n",
    "import re\n",
    "import dateutil.parser as dparser\n",
    "\n",
    "from mms import constants\n",
    "# import pandas as pd"
   ]
  },
  {
   "cell_type": "code",
   "execution_count": 4,
   "metadata": {},
   "outputs": [],
   "source": [
    "class FolderPathParser(object):\n",
    "\n",
    "    @staticmethod\n",
    "    def parse_name(path:str):\n",
    "        return Path(path).name\n",
    "\n",
    "    @staticmethod\n",
    "    def parse_id(path:str, as_int=False):\n",
    "        name = FolderPathParser.parse_name(path)\n",
    "        idnum = re.split('[^0-9]', name)[0]\n",
    "        if not idnum:\n",
    "            raise ValueError('No ID found in name')\n",
    "        if as_int:\n",
    "            idnum = int(idnum)\n",
    "        return idnum\n",
    "\n",
    "    # @staticmethod\n",
    "    # def parse_depth(path:str):\n",
    "    #     return DepthSheetReader.parse_depth(path)\n",
    "    \n",
    "    @staticmethod\n",
    "    def parse_genotype(path:str):\n",
    "        name = FolderPathParser.parse_name(path)\n",
    "        for key in constants.GENOTYPE_ALIASES.keys():\n",
    "            if key in name:\n",
    "                return key\n",
    "        # Now check aliases\n",
    "        for i, (k,v) in enumerate(constants.GENOTYPE_ALIASES.items()):\n",
    "            if any([alias in name for alias in v]):\n",
    "                return k\n",
    "        raise KeyError(f'No valid genotype found in {name}')\n",
    "\n",
    "    @staticmethod\n",
    "    def parse_date(path:str, pattern=r'\\d{1,2}[-_]\\d{1,2}[-_]\\d{2}(?:\\d{2})?'):\n",
    "        name = FolderPathParser.parse_name(path)\n",
    "        name = name.removeprefix(FolderPathParser.parse_id(path))\n",
    "        matches = re.findall(pattern, string=name)\n",
    "        if len(matches) >= 2:\n",
    "            raise ValueError(f'Too many date-like strings found in name: {matches}\\nPath: {path}')\n",
    "        elif len(matches) == 0:\n",
    "            raise ValueError(f'No date-like strings found in name: {name}\\nPath: {path}')\n",
    "        \n",
    "        name = matches[0]\n",
    "        # Parse fuzzy with monthfirst always\n",
    "        return dparser.parse(name, dayfirst=False, yearfirst=False, fuzzy=True)\n"
   ]
  }
 ],
 "metadata": {
  "kernelspec": {
   "display_name": ".venv",
   "language": "python",
   "name": "python3"
  },
  "language_info": {
   "codemirror_mode": {
    "name": "ipython",
    "version": 3
   },
   "file_extension": ".py",
   "mimetype": "text/x-python",
   "name": "python",
   "nbconvert_exporter": "python",
   "pygments_lexer": "ipython3",
   "version": "3.13.0"
  }
 },
 "nbformat": 4,
 "nbformat_minor": 2
}
