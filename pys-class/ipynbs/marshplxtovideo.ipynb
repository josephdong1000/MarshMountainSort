{
 "cells": [
  {
   "cell_type": "markdown",
   "metadata": {},
   "source": [
    "# PLX to Video"
   ]
  },
  {
   "cell_type": "code",
   "execution_count": 8,
   "metadata": {},
   "outputs": [],
   "source": [
    "from neo.io import PlexonIO, Plexon2IO, CedIO"
   ]
  },
  {
   "cell_type": "code",
   "execution_count": 9,
   "metadata": {},
   "outputs": [
    {
     "ename": "ModuleNotFoundError",
     "evalue": "No module named 'sonpy'",
     "output_type": "error",
     "traceback": [
      "\u001b[0;31m---------------------------------------------------------------------------\u001b[0m",
      "\u001b[0;31mModuleNotFoundError\u001b[0m                       Traceback (most recent call last)",
      "Cell \u001b[0;32mIn[9], line 3\u001b[0m\n\u001b[1;32m      1\u001b[0m \u001b[38;5;66;03m# pyabf.ABF(\"/mnt/isilon/marsh_single_unit/MarshMountainSort/vids/579-580-WT-GCG-M-19htL-19htR tetrodes evening with video 1-21-25_250121_170632-0.plx\")\u001b[39;00m\n\u001b[1;32m      2\u001b[0m \u001b[38;5;66;03m# Plexon2IO(\"/mnt/isilon/marsh_single_unit/MarshMountainSort/vids/Test video 1 1-21-25-0.plx\")\u001b[39;00m\n\u001b[0;32m----> 3\u001b[0m \u001b[43mCedIO\u001b[49m\u001b[43m(\u001b[49m\u001b[38;5;124;43m\"\u001b[39;49m\u001b[38;5;124;43m/mnt/isilon/marsh_single_unit/MarshMountainSort/vids/Test video 4 1-21-25-0 as smr.smr\u001b[39;49m\u001b[38;5;124;43m\"\u001b[39;49m\u001b[43m)\u001b[49m\n",
      "File \u001b[0;32m/mnt/isilon/marsh_single_unit/MarshMountainSort/.venv/lib/python3.10/site-packages/neo/io/cedio.py:10\u001b[0m, in \u001b[0;36mCedIO.__init__\u001b[0;34m(self, filename, entfile, posfile)\u001b[0m\n\u001b[1;32m      8\u001b[0m \u001b[38;5;28;01mdef\u001b[39;00m \u001b[38;5;21m__init__\u001b[39m(\u001b[38;5;28mself\u001b[39m, filename, entfile\u001b[38;5;241m=\u001b[39m\u001b[38;5;28;01mNone\u001b[39;00m, posfile\u001b[38;5;241m=\u001b[39m\u001b[38;5;28;01mNone\u001b[39;00m):\n\u001b[1;32m      9\u001b[0m     CedRawIO\u001b[38;5;241m.\u001b[39m\u001b[38;5;21m__init__\u001b[39m(\u001b[38;5;28mself\u001b[39m, filename\u001b[38;5;241m=\u001b[39mfilename)\n\u001b[0;32m---> 10\u001b[0m     \u001b[43mBaseFromRaw\u001b[49m\u001b[38;5;241;43m.\u001b[39;49m\u001b[38;5;21;43m__init__\u001b[39;49m\u001b[43m(\u001b[49m\u001b[38;5;28;43mself\u001b[39;49m\u001b[43m,\u001b[49m\u001b[43m \u001b[49m\u001b[43mfilename\u001b[49m\u001b[43m)\u001b[49m\n",
      "File \u001b[0;32m/mnt/isilon/marsh_single_unit/MarshMountainSort/.venv/lib/python3.10/site-packages/neo/io/basefromrawio.py:77\u001b[0m, in \u001b[0;36mBaseFromRaw.__init__\u001b[0;34m(self, *args, **kargs)\u001b[0m\n\u001b[1;32m     75\u001b[0m \u001b[38;5;28;01mdef\u001b[39;00m \u001b[38;5;21m__init__\u001b[39m(\u001b[38;5;28mself\u001b[39m, \u001b[38;5;241m*\u001b[39margs, \u001b[38;5;241m*\u001b[39m\u001b[38;5;241m*\u001b[39mkargs):\n\u001b[1;32m     76\u001b[0m     BaseIO\u001b[38;5;241m.\u001b[39m\u001b[38;5;21m__init__\u001b[39m(\u001b[38;5;28mself\u001b[39m, \u001b[38;5;241m*\u001b[39margs, \u001b[38;5;241m*\u001b[39m\u001b[38;5;241m*\u001b[39mkargs)\n\u001b[0;32m---> 77\u001b[0m     \u001b[38;5;28;43mself\u001b[39;49m\u001b[38;5;241;43m.\u001b[39;49m\u001b[43mparse_header\u001b[49m\u001b[43m(\u001b[49m\u001b[43m)\u001b[49m\n",
      "File \u001b[0;32m/mnt/isilon/marsh_single_unit/MarshMountainSort/.venv/lib/python3.10/site-packages/neo/rawio/baserawio.py:199\u001b[0m, in \u001b[0;36mBaseRawIO.parse_header\u001b[0;34m(self)\u001b[0m\n\u001b[1;32m    186\u001b[0m \u001b[38;5;250m\u001b[39m\u001b[38;5;124;03m\"\"\"\u001b[39;00m\n\u001b[1;32m    187\u001b[0m \u001b[38;5;124;03mParses the header of the file(s) to allow for faster computations\u001b[39;00m\n\u001b[1;32m    188\u001b[0m \u001b[38;5;124;03mfor all other functions\u001b[39;00m\n\u001b[1;32m    189\u001b[0m \n\u001b[1;32m    190\u001b[0m \u001b[38;5;124;03m\"\"\"\u001b[39;00m\n\u001b[1;32m    191\u001b[0m \u001b[38;5;66;03m# this must create\u001b[39;00m\n\u001b[1;32m    192\u001b[0m \u001b[38;5;66;03m# self.header['nb_block']\u001b[39;00m\n\u001b[1;32m    193\u001b[0m \u001b[38;5;66;03m# self.header['nb_segment']\u001b[39;00m\n\u001b[0;32m   (...)\u001b[0m\n\u001b[1;32m    196\u001b[0m \u001b[38;5;66;03m# self.header['spike_channels']\u001b[39;00m\n\u001b[1;32m    197\u001b[0m \u001b[38;5;66;03m# self.header['event_channels']\u001b[39;00m\n\u001b[0;32m--> 199\u001b[0m \u001b[38;5;28;43mself\u001b[39;49m\u001b[38;5;241;43m.\u001b[39;49m\u001b[43m_parse_header\u001b[49m\u001b[43m(\u001b[49m\u001b[43m)\u001b[49m\n\u001b[1;32m    200\u001b[0m \u001b[38;5;28mself\u001b[39m\u001b[38;5;241m.\u001b[39m_check_stream_signal_channel_characteristics()\n\u001b[1;32m    201\u001b[0m \u001b[38;5;28mself\u001b[39m\u001b[38;5;241m.\u001b[39mis_header_parsed \u001b[38;5;241m=\u001b[39m \u001b[38;5;28;01mTrue\u001b[39;00m\n",
      "File \u001b[0;32m/mnt/isilon/marsh_single_unit/MarshMountainSort/.venv/lib/python3.10/site-packages/neo/rawio/cedrawio.py:71\u001b[0m, in \u001b[0;36mCedRawIO._parse_header\u001b[0;34m(self)\u001b[0m\n\u001b[1;32m     70\u001b[0m \u001b[38;5;28;01mdef\u001b[39;00m \u001b[38;5;21m_parse_header\u001b[39m(\u001b[38;5;28mself\u001b[39m):\n\u001b[0;32m---> 71\u001b[0m     \u001b[38;5;28;01mimport\u001b[39;00m \u001b[38;5;21;01msonpy\u001b[39;00m\n\u001b[1;32m     73\u001b[0m     \u001b[38;5;28mself\u001b[39m\u001b[38;5;241m.\u001b[39msmrx_file \u001b[38;5;241m=\u001b[39m sonpy\u001b[38;5;241m.\u001b[39mlib\u001b[38;5;241m.\u001b[39mSonFile(sName\u001b[38;5;241m=\u001b[39m\u001b[38;5;28mstr\u001b[39m(\u001b[38;5;28mself\u001b[39m\u001b[38;5;241m.\u001b[39mfilename), bReadOnly\u001b[38;5;241m=\u001b[39m\u001b[38;5;28;01mTrue\u001b[39;00m)\n\u001b[1;32m     74\u001b[0m     smrx \u001b[38;5;241m=\u001b[39m \u001b[38;5;28mself\u001b[39m\u001b[38;5;241m.\u001b[39msmrx_file\n",
      "\u001b[0;31mModuleNotFoundError\u001b[0m: No module named 'sonpy'"
     ]
    }
   ],
   "source": [
    "# pyabf.ABF(\"/mnt/isilon/marsh_single_unit/MarshMountainSort/vids/579-580-WT-GCG-M-19htL-19htR tetrodes evening with video 1-21-25_250121_170632-0.plx\")\n",
    "# Plexon2IO(\"/mnt/isilon/marsh_single_unit/MarshMountainSort/vids/Test video 1 1-21-25-0.plx\")\n",
    "CedIO(\"/mnt/isilon/marsh_single_unit/MarshMountainSort/vids/Test video 4 1-21-25-0 as smr.smr\")\n"
   ]
  }
 ],
 "metadata": {
  "kernelspec": {
   "display_name": ".venv",
   "language": "python",
   "name": "python3"
  },
  "language_info": {
   "codemirror_mode": {
    "name": "ipython",
    "version": 3
   },
   "file_extension": ".py",
   "mimetype": "text/x-python",
   "name": "python",
   "nbconvert_exporter": "python",
   "pygments_lexer": "ipython3",
   "version": "3.10.8"
  }
 },
 "nbformat": 4,
 "nbformat_minor": 2
}
