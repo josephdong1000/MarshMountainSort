{
 "cells": [
  {
   "cell_type": "markdown",
   "id": "e357ae2f-1cfb-4d1c-b1b8-9b9ec5f91c9b",
   "metadata": {},
   "source": [
    "# Find New TXTs\n",
    "\n",
    "This will find any TXT files in the raw_txts folder that have not been processed, print out their names, and move them into their individual folders"
   ]
  },
  {
   "cell_type": "code",
   "execution_count": 1,
   "id": "62c80ed5-ef33-4a2a-bc4b-046e02b75dbc",
   "metadata": {
    "editable": true,
    "slideshow": {
     "slide_type": ""
    },
    "tags": [
     "note"
    ]
   },
   "outputs": [
    {
     "name": "stdout",
     "output_type": "stream",
     "text": [
      "Submitted batch job 23417168\n",
      "COMPLETE\n"
     ]
    }
   ],
   "source": [
    "# Save the notebook as a .py, and run on HPC\n",
    "!jupyter nbconvert --to script findnewtxt.ipynb --TagRemovePreprocessor.remove_cell_tags='{\"note\"}' --output-dir ./pys\n",
    "!sbatch --mem=20G /mnt/isilon/marsh_single_unit/MarshMountainSort/FindNewTXT.sh\n",
    "!echo \"COMPLETE\""
   ]
  },
  {
   "cell_type": "code",
   "execution_count": 11,
   "id": "16c731fd-4013-4332-970b-3561d71f48de",
   "metadata": {
    "editable": true,
    "slideshow": {
     "slide_type": ""
    },
    "tags": []
   },
   "outputs": [],
   "source": [
    "# Create new folders and move all raw .TXTs into individual folders\n",
    "PUTINDIRECTORY = True\n",
    "\n",
    "# Show converted files. Set to false if there are too many converted/outputted files\n",
    "SHOWCONVERTED = False\n",
    "\n",
    "# Show files that have figures generated. Set to false if there are too many files.\n",
    "SHOWOUTPUTTED = False\n",
    "\n",
    "# Compress all present .BIN files\n",
    "COMPRESSBINS = False\n",
    "\n",
    "# Move output files into subdirectories. You can also do this manually\n",
    "MOVEOUTPUT = False\n",
    "\n",
    "# Create new Turn Depth .XLSX\n",
    "NEWTURNDEPTHS = False"
   ]
  },
  {
   "cell_type": "code",
   "execution_count": 12,
   "id": "32bd55fc-adec-49b3-ab8d-7a7fa38017f9",
   "metadata": {
    "editable": true,
    "slideshow": {
     "slide_type": ""
    },
    "tags": []
   },
   "outputs": [],
   "source": [
    "import glob\n",
    "import shutil\n",
    "import os\n",
    "import gzip\n",
    "import numpy as np\n",
    "from pathlib import Path\n",
    "import pandas as pd\n",
    "from datetime import date"
   ]
  },
  {
   "cell_type": "markdown",
   "id": "6ba9d1ce-0015-4aed-84d2-88477ec4a789",
   "metadata": {},
   "source": [
    "## Define Constants"
   ]
  },
  {
   "cell_type": "code",
   "execution_count": 13,
   "id": "3e5e6fee-09a9-40a6-8265-e6190a0011c0",
   "metadata": {
    "editable": true,
    "slideshow": {
     "slide_type": ""
    },
    "tags": []
   },
   "outputs": [
    {
     "name": "stdout",
     "output_type": "stream",
     "text": [
      "/mnt/isilon/marsh_single_unit/MarshMountainSort/rawtxts\n",
      "/mnt/isilon/marsh_single_unit/MarshMountainSort/bins\n",
      "/mnt/isilon/marsh_single_unit/MarshMountainSort/output\n"
     ]
    }
   ],
   "source": [
    "base_folder_path = Path(f'/mnt/isilon/marsh_single_unit/MarshMountainSort')\n",
    "raw_txts_folder = 'rawtxts'\n",
    "binary_folder = 'bins'\n",
    "output_folder = 'output'\n",
    "tetrode_names = ['ca3', 'ca1s', 'ca1o']\n",
    "genotypes = [['WT', 'Bl6'], ['Exp', 'EXP']]\n",
    "turndepth_xlsx = 'fileturndepths.xlsx'\n",
    "\n",
    "txt_folder_path = base_folder_path / raw_txts_folder\n",
    "bin_folder_path = base_folder_path / binary_folder\n",
    "output_folder_path = base_folder_path / output_folder\n",
    "\n",
    "print(txt_folder_path)\n",
    "print(bin_folder_path)\n",
    "print(output_folder_path)"
   ]
  },
  {
   "cell_type": "markdown",
   "id": "1e909c8a-74d5-4e04-9d4a-d3092a62ac1e",
   "metadata": {},
   "source": [
    "## Find Unconverted .TXTs"
   ]
  },
  {
   "cell_type": "code",
   "execution_count": 14,
   "id": "dc88195b-6f46-48b1-a4f8-1c1778dbd348",
   "metadata": {
    "editable": true,
    "slideshow": {
     "slide_type": ""
    },
    "tags": []
   },
   "outputs": [
    {
     "name": "stdout",
     "output_type": "stream",
     "text": [
      "===UNCONVERTED TXT FILES===\n",
      "NOT IN FOLDER:\n",
      "\n",
      "IN FOLDER:\n"
     ]
    }
   ],
   "source": [
    "# Quickly view all .TXT files in the raw_txts folder\n",
    "\n",
    "# Find all files\n",
    "txt_file_list = glob.glob(f'{txt_folder_path}/*.txt')\n",
    "txt_in_folder_list = glob.glob(f'{txt_folder_path}/*/*.txt')\n",
    "bin_file_list = glob.glob(f'{bin_folder_path}/*/*.bin')\n",
    "gzip_file_list = glob.glob(f'{bin_folder_path}/*/*.npy.gz')\n",
    "\n",
    "txt_file_names = [Path(e).stem for e in txt_file_list]\n",
    "txt_in_folder_names = [Path(e).parent.stem for e in txt_in_folder_list]\n",
    "bin_file_names = [Path(e).stem for e in bin_file_list]\n",
    "gzip_file_names = [Path(e).name.partition('.')[0] for e in gzip_file_list]\n",
    "\n",
    "# Print out files\n",
    "print('===UNCONVERTED TXT FILES===')\n",
    "\n",
    "print('NOT IN FOLDER:')\n",
    "for e in txt_file_names:\n",
    "    if e not in bin_file_names + gzip_file_names:\n",
    "        print(f'\"{e}\",')\n",
    "    else:\n",
    "        if SHOWCONVERTED:\n",
    "            print(f'\\t\\t[CONVERTED] {e}')\n",
    "print()\n",
    "print('IN FOLDER:')\n",
    "for e in txt_in_folder_names:\n",
    "    if e not in bin_file_names + gzip_file_names:\n",
    "        print(f'\"{e}\",')\n",
    "    else:\n",
    "        if SHOWCONVERTED:\n",
    "            print(f'\\t\\t[CONVERTED] {e}')\n",
    "\n",
    "# 1185_Exp_4 half turns + 3-8th of a full turn_after turning_1-27-17"
   ]
  },
  {
   "cell_type": "markdown",
   "id": "6c48a94a-90a8-4dfa-ab0b-8e5e86b172fd",
   "metadata": {},
   "source": [
    "## Move .TXTs into Folders"
   ]
  },
  {
   "cell_type": "code",
   "execution_count": 15,
   "id": "1d703fff-0960-4880-9e67-c595d6942cd3",
   "metadata": {
    "editable": true,
    "slideshow": {
     "slide_type": ""
    },
    "tags": []
   },
   "outputs": [],
   "source": [
    "# Put exposed TXT files into individual directories\n",
    "if PUTINDIRECTORY:\n",
    "    for e in txt_file_names:\n",
    "        fpath = txt_folder_path / e / f'{e}.txt'\n",
    "        opath = txt_folder_path / f'{e}.txt'\n",
    "        # print(txt_folder_path / f'{e}.txt')\n",
    "        \n",
    "        os.makedirs(fpath.parent, exist_ok=True)\n",
    "        shutil.move(opath, fpath)"
   ]
  },
  {
   "cell_type": "markdown",
   "id": "2999a2e2-df71-49a3-ae07-ea8979a7b55e",
   "metadata": {},
   "source": [
    "## Compress .BINs"
   ]
  },
  {
   "cell_type": "code",
   "execution_count": 16,
   "id": "517395cf-7d02-457b-b90a-de2ff63360c8",
   "metadata": {},
   "outputs": [],
   "source": [
    "if COMPRESSBINS:\n",
    "    for i, e in enumerate(bin_file_list):\n",
    "        fcomp_name = Path(e).parent / f\"{Path(e).stem}.npy.gz\"\n",
    "        \n",
    "        # If the compressed file exists, skip\n",
    "        if fcomp_name.is_file():\n",
    "            continue\n",
    "        \n",
    "        bin_arr = np.fromfile(e, dtype=np.float32)\n",
    "        with gzip.GzipFile(fcomp_name, \"w\") as fcomp:\n",
    "            np.save(file=fcomp, arr=bin_arr)\n",
    "        print(f\"Compressed: {fcomp_name.name}\")\n"
   ]
  },
  {
   "cell_type": "markdown",
   "id": "df312b6a-39b8-4f80-ab7d-77fae6cac812",
   "metadata": {},
   "source": [
    "## Find Unoutputted .BINs"
   ]
  },
  {
   "cell_type": "code",
   "execution_count": 17,
   "id": "85696c83-9fb6-4645-9faa-a8d3c0035f0c",
   "metadata": {
    "editable": true,
    "slideshow": {
     "slide_type": ""
    },
    "tags": []
   },
   "outputs": [
    {
     "name": "stdout",
     "output_type": "stream",
     "text": [
      "===UNOUTPUTTED BINARY FILES===\n",
      "\"1238_Exp_4 half turn after turning_5_4_17\", \n",
      "\"1244_Bl6_Final Protocol_6th half turn_recorded after turning_Day1 morning 7-03-2017\", \n",
      "\"1238_Expanded_2 half turns_after turning_05-02-17\", \n",
      "\"1269_EXP_Final Protocol 6th half turn Morning_recorded after recovery_8-2-2017\", \n",
      "\"1269_EXP_5th half turn_recorded after recovery_8-1-2017\", \n",
      "\"766_WT_Final Protocol Night 6th half turn+2_4_recorded after turning_7-31-2017\", \n",
      "\"766_WT_5th half turn_recorded after turning_7-26-2017\", \n",
      "\"1238_Exp_3 half turn after turning_5_3_17\", \n",
      "\"766_WT_Final Protocol Night 6th half turn +1_4 _recorded after turning_7-28-2017\", \n",
      "\"1236_Exp_6 half turn after turning_Day1 night 5_5_17\", \n",
      "\"766_WT_3rd half turn_recorded after turning_7-24-2017\", \n",
      "\"1236_Exp_4 half turn after turning_5_4_17\", \n",
      "\"766_WT_Final Protocol Morning 6th half turn_recorded after turning_7-27-2017\", \n",
      "\"1236_Exp_3 half turn after turning_5_3_17\", \n",
      "\"1244_Bl6_3rd half turn_recorded after turning_ 6-30-2017\", \n",
      "\"1269_EXP_2nd half turn_recorded after recovery_7-27-2017\", \n",
      "\"766_WT_4th half turn_recorded after turning_7-25-2017\", \n",
      "\"766_WT_Final Protocol Morning 6th half turn+2_4_recorded after turning_7-31-2017\", \n",
      "\"1244_Bl6_5th half turn_recorded after turning_ 7-02-2017\", \n",
      "\"1238_Exp_6 half turn after turning_ Day 1 morning 5_5_17\", \n",
      "\"1133_WT_5 half turns + 1-4th of full turn_after recovery_Day 1_night_01-26-17\", \n",
      "\"1133_WT_5 half turns + 1-4th of full turn_after recovery_Day 2_morning_01-27-17\", \n",
      "\"1244_Bl6_2nd half turn_recorded after turning_ 6-29-2017\", \n",
      "\"1236_Expanded_2 half turns_after turning_05-02-17\", \n",
      "\"1244_Bl6_4th half turn_recorded after turning_ 7-01-2017\", \n",
      "\"766_WT_Final Protocol Morning 6th half turn +1_4 _recorded_ after turning_7-28-2017\", \n",
      "\"1236_Exp_5 half turn after turning_5_5_17\", \n",
      "\"766_WT_Final Protocol Morning 6th half turn+3_4_recorded after turning_8-02-2017\", \n",
      "\"766_WT_Final Protocol Night 6th half turn_recorded after turning_7-27-2017\", \n",
      "\"1133_WT_5 half turns + 1-4th of full turn_right after turning_Day 1_morning_01-26-17\", \n",
      "\"766_WT_2nd half turn_recorded after turning_7-21-2017\", \n",
      "\"1269_EXP_Final Protocol 6th half turn Night_recorded after recovery_8-2-2017\", \n",
      "\"1269_EXP_3rd half turn_recorded after recovery_7-28-2017\", \n",
      "\"1244_Bl6_1st half turn_recorded after turning_6-28-2017\", \n",
      "\"1133_WT_5 half turns + 1-4th of full turn_right after turning_Day 1_morning_new object_01-26-17\", \n",
      "\"1269_EXP_4th half turn_recorded after recovery_7-31-2017\", \n",
      "\"1236_Exp_6 half turn after turning_Day1 morning 5_5_17\", \n",
      "\"1269_EXP_Final Protocol 6th half + 1_4th quarter turn Night_recorded after recovery_8-3-2017\", \n",
      "\"1133_WT_5 half turns + 1-4th of full turn_after recovery_Day 2_morning_new object_01-27-17\", \n",
      "\"1269_EXP_Final Protocol 6th half + 1_4th quarter turn Morning_recorded after recovery_8-3-2017\", \n",
      "\"1238_Exp_5 half turn after turning_5_5_17\", \n",
      "\"1238_Exp_6 half turn after turning_ Day 1 night 5_5_17\", \n"
     ]
    }
   ],
   "source": [
    "# Find unoutputted binaries and print them out\n",
    "bin_folder_list = glob.glob(f'{bin_folder_path}/*')\n",
    "bin_folder_names = [Path(e).stem for e in bin_folder_list]\n",
    "\n",
    "conv_folder_parent_list = glob.glob(f'{output_folder_path}/*')\n",
    "conv_folder_parent_names = [Path(e).stem for e in conv_folder_parent_list]\n",
    "\n",
    "print('===UNOUTPUTTED BINARY FILES===')\n",
    "for e in bin_folder_names:\n",
    "    # print(e)\n",
    "    if e not in conv_folder_parent_names:\n",
    "        print(f'\"{e}\", ')\n"
   ]
  },
  {
   "cell_type": "markdown",
   "id": "58cbde7c-abe1-4283-8d25-ebace2f44517",
   "metadata": {},
   "source": [
    "## Move Outputs into Folders"
   ]
  },
  {
   "cell_type": "code",
   "execution_count": 8,
   "id": "ca8c9db3-170d-4cb4-93d5-47704f3d07a9",
   "metadata": {
    "editable": true,
    "scrolled": true,
    "slideshow": {
     "slide_type": ""
    },
    "tags": []
   },
   "outputs": [],
   "source": [
    "# Move all output files into respective folders if applicable.\n",
    "# If an output folder exists and is not empty, do not move and report the conflict\n",
    "# Otherwise, create folder and move outputs into folder\n",
    "\n",
    "if MOVEOUTPUT:\n",
    "    print('===OUTPUT FOLDERS===')\n",
    "    \n",
    "    for e in conv_folder_parent_names:\n",
    "        print(e)\n",
    "        for i, region in enumerate(tetrode_names):\n",
    "            region_folder_path = Path(output_folder_path / e / region)\n",
    "    \n",
    "            region_files = glob.glob(f'{region_folder_path.parent}/{region}*.*')\n",
    "            region_present = len(region_files) != 0\n",
    "            # print(region_present)\n",
    "            \n",
    "            # print(region_folder_path)\n",
    "            \n",
    "            if os.path.exists(region_folder_path):\n",
    "                if len(os.listdir(region_folder_path)) != 0 and region_present:\n",
    "                    print(f'\\tCONFLICT {i} : {region} folder not empty')\n",
    "                    continue\n",
    "            elif region_present:\n",
    "                os.makedirs(region_folder_path)\n",
    "    \n",
    "            \n",
    "            for file in region_files:\n",
    "                new_file = region_folder_path / Path(file).name\n",
    "                print(f'\\tMOVED FILE : {file}')\n",
    "                shutil.move(file, new_file)\n",
    "                \n",
    "            "
   ]
  },
  {
   "cell_type": "markdown",
   "id": "745ff70c-1ea9-4752-b5cc-98731dbe5a09",
   "metadata": {},
   "source": [
    "## Find Unoutputted Tetrode .BINs"
   ]
  },
  {
   "cell_type": "code",
   "execution_count": 9,
   "id": "77663fec-8f5b-4b0e-953b-53c6947590f3",
   "metadata": {},
   "outputs": [
    {
     "name": "stdout",
     "output_type": "stream",
     "text": [
      "===UNPROCESSED TETRODE BINARY FILES===\n"
     ]
    }
   ],
   "source": [
    "# Report which tetrodes have not been processed, based on presence of /ca3 /ca1s /ca1o subfolders\n",
    "conv_folder_list = glob.glob(f'{output_folder_path}/*/*')\n",
    "conv_folder_names = [Path(e).parent.stem for e in conv_folder_list]\n",
    "\n",
    "print('===UNPROCESSED TETRODE BINARY FILES===')\n",
    "for e in bin_file_names:\n",
    "    if e not in txt_file_names + txt_in_folder_names:\n",
    "        continue\n",
    "    \n",
    "    if e not in conv_folder_names:\n",
    "        print(e)\n",
    "    else:\n",
    "        hasall = True\n",
    "        msg = ''\n",
    "        for i, region in enumerate(tetrode_names):\n",
    "            if f'{output_folder_path}/{e}/{region}' not in conv_folder_list and f'{output_folder_path}/{e}/{region}_NO_UNITS' not in conv_folder_list:\n",
    "                msg += f'\\t\\tMISSING OUTPUT {i} : {region}\\n'\n",
    "                hasall = False\n",
    "            else:\n",
    "                if SHOWOUTPUTTED:\n",
    "                    msg += f'\\t\\tOK {i} : {region}\\n'\n",
    "        if not hasall:\n",
    "            msg = f'\\t[INCOMPLETE] {e}\\n' + msg\n",
    "        else:\n",
    "            if SHOWOUTPUTTED:\n",
    "                msg = f'\\t[COMPLETE] {e}\\n' + msg\n",
    "        \n",
    "        if msg != '':\n",
    "            print(msg)"
   ]
  },
  {
   "cell_type": "markdown",
   "id": "a982843a-d9ee-4eb8-b198-90a84a60eea4",
   "metadata": {},
   "source": [
    "## Make Turn Depth .XLSX"
   ]
  },
  {
   "cell_type": "code",
   "execution_count": 10,
   "id": "3bbb3bd2-b25b-4e34-9e4b-bbb589b004ab",
   "metadata": {},
   "outputs": [
    {
     "name": "stdout",
     "output_type": "stream",
     "text": [
      "                                              Filename    ID Genotype  \\\n",
      "0      1132_WT Bl6_7 half turns_after turning_01-23-17  1132       WT   \n",
      "1    1133_Exp_5 half turns + 1-4th of full turn_aft...  1133      Exp   \n",
      "2    1133_Exp_5 half turns + 1-4th of full turn_aft...  1133      Exp   \n",
      "3    1133_Exp_5 half turns + 1-4th of full turn_aft...  1133      Exp   \n",
      "4    1133_Exp_5 half turns + 1-4th of full turn_rig...  1133      Exp   \n",
      "..                                                 ...   ...      ...   \n",
      "191  766_WT_Final Protocol Morning 6th half turn+3_...   766       WT   \n",
      "192  766_WT_Final Protocol Morning 6th half turn_re...   766       WT   \n",
      "193  766_WT_Final Protocol Night 6th half turn +1_4...   766       WT   \n",
      "194  766_WT_Final Protocol Night 6th half turn+2_4_...   766       WT   \n",
      "195  766_WT_Final Protocol Night 6th half turn_reco...   766       WT   \n",
      "\n",
      "     Halfturns  \n",
      "0          NaN  \n",
      "1          NaN  \n",
      "2          NaN  \n",
      "3          NaN  \n",
      "4          NaN  \n",
      "..         ...  \n",
      "191        NaN  \n",
      "192        NaN  \n",
      "193        NaN  \n",
      "194        NaN  \n",
      "195        NaN  \n",
      "\n",
      "[196 rows x 4 columns]\n",
      "/mnt/isilon/marsh_single_unit/MarshMountainSort/fileturndepths.xlsx\n"
     ]
    }
   ],
   "source": [
    "if NEWTURNDEPTHS:\n",
    "    gzip_file_names.sort()\n",
    "    gzip_file_names_noreg = [file for file in gzip_file_names if not any(reg in file for reg in tetrode_names)]\n",
    "\n",
    "    gzip_file_ids = []\n",
    "    gzip_file_genotypes = []\n",
    "    \n",
    "    for i, file in enumerate(gzip_file_names_noreg):\n",
    "        gzip_file_ids.append(file.split('_')[0])  # Number before first '_' = ID\n",
    "        for geno_aliases in genotypes:\n",
    "            if any([True for x in geno_aliases if x in file]):\n",
    "                gzip_file_genotypes.append(geno_aliases[0])\n",
    "                break\n",
    "                \n",
    "            # if geno in file:\n",
    "                \n",
    "        if len(gzip_file_genotypes) < len(gzip_file_ids):\n",
    "            raise Exception(f\"No valid genotype label for {file}\")\n",
    "        \n",
    "    df = pd.DataFrame({'Filename': gzip_file_names_noreg, 'ID': gzip_file_ids, 'Genotype': gzip_file_genotypes, 'Halfturns':np.nan * len(gzip_file_names_noreg)})\n",
    "    df.sort_values(['ID', 'Genotype'])\n",
    "    print(df)\n",
    "    print(base_folder_path / turndepth_xlsx)\n",
    "\n",
    "    today = date.today()\n",
    "    today = today.strftime(\"%m-%d-%Y\")\n",
    "        \n",
    "    with pd.ExcelWriter(base_folder_path / turndepth_xlsx, mode='a', if_sheet_exists='new') as writer:\n",
    "        df.to_excel(writer, index=False, sheet_name=today)\n",
    "    \n",
    "\n",
    "\n",
    "    \n",
    "\n",
    "    # reg_file_list = [f for f in gzip_file_list if f'{region}.npy.gz' in f]\n",
    "    # gzip_folder_names = [f for f in gzip_file_names]\n",
    "    # reg_file_names = [Path(e).name.partition('.')[0] for e in reg_file_list]\n",
    "    "
   ]
  },
  {
   "cell_type": "code",
   "execution_count": null,
   "id": "f3686f11-02c8-4c73-9fe0-47ec2b0bad35",
   "metadata": {},
   "outputs": [],
   "source": []
  },
  {
   "cell_type": "code",
   "execution_count": null,
   "id": "15829764-33a6-473a-a878-02e8f8e31780",
   "metadata": {},
   "outputs": [],
   "source": []
  }
 ],
 "metadata": {
  "kernelspec": {
   "display_name": "Python (mmsenv)",
   "language": "python",
   "name": "mmsenv"
  },
  "language_info": {
   "codemirror_mode": {
    "name": "ipython",
    "version": 3
   },
   "file_extension": ".py",
   "mimetype": "text/x-python",
   "name": "python",
   "nbconvert_exporter": "python",
   "pygments_lexer": "ipython3",
   "version": "3.9.14"
  }
 },
 "nbformat": 4,
 "nbformat_minor": 5
}
