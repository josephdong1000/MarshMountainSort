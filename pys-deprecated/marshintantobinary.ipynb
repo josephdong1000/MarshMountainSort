{
 "cells": [
  {
   "cell_type": "markdown",
   "id": "1bef96b1-02ab-4dfb-ba23-a8333be92462",
   "metadata": {
    "editable": true,
    "slideshow": {
     "slide_type": ""
    },
    "tags": []
   },
   "source": [
    "# Convert Intan (.RHD) to Binary (.BIN)"
   ]
  },
  {
   "cell_type": "markdown",
   "id": "f75ffb0a-bc7a-46c2-9e5d-f3813fb2e4d3",
   "metadata": {
    "editable": true,
    "slideshow": {
     "slide_type": ""
    },
    "tags": []
   },
   "source": [
    "Converts Intan files into Binary files. If recording with Intan and not Datawave, run this before running `marshfindbestdepths.ipynb`\n",
    "\n",
    "By using the Intan data format, we circumvent the Datawave export problem and data can be loaded into SpikeInterface much more quickly.\n",
    "\n",
    "If running with `GENERATEALL=True`, quickly get a list of all unconverted Intan files with `findnewtxt.ipynb`"
   ]
  },
  {
   "cell_type": "markdown",
   "id": "3f9d14ff-d861-47e1-94d0-fdf47c3f49a5",
   "metadata": {},
   "source": [
    "## Run Code on HPC"
   ]
  },
  {
   "cell_type": "markdown",
   "id": "9d19c369-0864-4fb4-8096-970dffba702e",
   "metadata": {
    "editable": true,
    "slideshow": {
     "slide_type": ""
    },
    "tags": []
   },
   "source": [
    "### Run 1 File"
   ]
  },
  {
   "cell_type": "code",
   "execution_count": 1,
   "id": "f9edbcdf-e625-4318-bd64-2a11e64573f1",
   "metadata": {
    "editable": true,
    "slideshow": {
     "slide_type": ""
    },
    "tags": [
     "note"
    ]
   },
   "outputs": [
    {
     "name": "stdout",
     "output_type": "stream",
     "text": [
      "[NbConvertApp] Converting notebook marshmountainsort.ipynb to script\n",
      "[NbConvertApp] Writing 25342 bytes to pys/marshmountainsort.py\n",
      "Submitted batch job 21249097\n",
      "COMPLETE\n"
     ]
    }
   ],
   "source": [
    "# Save the notebook as a .py, and run on HPC\n",
    "!jupyter nbconvert --to script marshmountainsort.ipynb --TagRemovePreprocessor.remove_cell_tags='{\"note\"}' --output-dir ./pys\n",
    "!sbatch --mem=10G /mnt/isilon/marsh_single_unit/MarshMountainSort/MarshMountainSort.sh\n",
    "!echo \"COMPLETE\""
   ]
  },
  {
   "cell_type": "markdown",
   "id": "58998280-edef-4158-a57f-b3cfe0e9f7d1",
   "metadata": {
    "editable": true,
    "slideshow": {
     "slide_type": ""
    },
    "tags": []
   },
   "source": [
    "### Generate All Binaries"
   ]
  },
  {
   "cell_type": "code",
   "execution_count": 127,
   "id": "bca8a03b-8f1b-41de-96b2-fd1fb7fd7c78",
   "metadata": {
    "editable": true,
    "scrolled": true,
    "slideshow": {
     "slide_type": ""
    },
    "tags": [
     "note"
    ]
   },
   "outputs": [
    {
     "name": "stdout",
     "output_type": "stream",
     "text": [
      "[NbConvertApp] Converting notebook marshmountainsort.ipynb to script\n",
      "[NbConvertApp] Writing 27715 bytes to pys/marshmountainsort.py\n",
      "Submitted batch job 23033900\n",
      "[NbConvertApp] Converting notebook marshmountainsort.ipynb to script\n",
      "[NbConvertApp] Writing 27715 bytes to pys/marshmountainsort.py\n",
      "Submitted batch job 23033904\n",
      "[NbConvertApp] Converting notebook marshmountainsort.ipynb to script\n",
      "[NbConvertApp] Writing 27715 bytes to pys/marshmountainsort.py\n",
      "Submitted batch job 23033906\n",
      "[NbConvertApp] Converting notebook marshmountainsort.ipynb to script\n",
      "[NbConvertApp] Writing 27715 bytes to pys/marshmountainsort.py\n",
      "Submitted batch job 23033907\n",
      "[NbConvertApp] Converting notebook marshmountainsort.ipynb to script\n",
      "[NbConvertApp] Writing 27715 bytes to pys/marshmountainsort.py\n",
      "Submitted batch job 23033910\n",
      "[NbConvertApp] Converting notebook marshmountainsort.ipynb to script\n",
      "[NbConvertApp] Writing 27715 bytes to pys/marshmountainsort.py\n",
      "Submitted batch job 23033912\n",
      "[NbConvertApp] Converting notebook marshmountainsort.ipynb to script\n",
      "[NbConvertApp] Writing 27715 bytes to pys/marshmountainsort.py\n",
      "Submitted batch job 23033914\n",
      "[NbConvertApp] Converting notebook marshmountainsort.ipynb to script\n",
      "[NbConvertApp] Writing 27715 bytes to pys/marshmountainsort.py\n",
      "Submitted batch job 23033917\n",
      "[NbConvertApp] Converting notebook marshmountainsort.ipynb to script\n",
      "[NbConvertApp] Writing 27715 bytes to pys/marshmountainsort.py\n",
      "Submitted batch job 23033920\n",
      "[NbConvertApp] Converting notebook marshmountainsort.ipynb to script\n",
      "[NbConvertApp] Writing 27715 bytes to pys/marshmountainsort.py\n",
      "Submitted batch job 23033921\n",
      "[NbConvertApp] Converting notebook marshmountainsort.ipynb to script\n",
      "[NbConvertApp] Writing 27715 bytes to pys/marshmountainsort.py\n",
      "Submitted batch job 23033922\n",
      "[NbConvertApp] Converting notebook marshmountainsort.ipynb to script\n",
      "[NbConvertApp] Writing 27715 bytes to pys/marshmountainsort.py\n",
      "Submitted batch job 23033923\n",
      "[NbConvertApp] Converting notebook marshmountainsort.ipynb to script\n",
      "[NbConvertApp] Writing 27715 bytes to pys/marshmountainsort.py\n",
      "Submitted batch job 23033926\n",
      "[NbConvertApp] Converting notebook marshmountainsort.ipynb to script\n",
      "[NbConvertApp] Writing 27715 bytes to pys/marshmountainsort.py\n",
      "Submitted batch job 23033927\n",
      "[NbConvertApp] Converting notebook marshmountainsort.ipynb to script\n",
      "[NbConvertApp] Writing 27715 bytes to pys/marshmountainsort.py\n",
      "Submitted batch job 23033928\n",
      "[NbConvertApp] Converting notebook marshmountainsort.ipynb to script\n",
      "[NbConvertApp] Writing 27715 bytes to pys/marshmountainsort.py\n",
      "Submitted batch job 23033929\n",
      "[NbConvertApp] Converting notebook marshmountainsort.ipynb to script\n",
      "[NbConvertApp] Writing 27715 bytes to pys/marshmountainsort.py\n",
      "Submitted batch job 23033989\n",
      "[NbConvertApp] Converting notebook marshmountainsort.ipynb to script\n",
      "[NbConvertApp] Writing 27715 bytes to pys/marshmountainsort.py\n",
      "Submitted batch job 23034002\n",
      "[NbConvertApp] Converting notebook marshmountainsort.ipynb to script\n",
      "[NbConvertApp] Writing 27715 bytes to pys/marshmountainsort.py\n",
      "Submitted batch job 23034038\n",
      "[NbConvertApp] Converting notebook marshmountainsort.ipynb to script\n",
      "[NbConvertApp] Writing 27715 bytes to pys/marshmountainsort.py\n",
      "Submitted batch job 23034058\n",
      "[NbConvertApp] Converting notebook marshmountainsort.ipynb to script\n",
      "[NbConvertApp] Writing 27715 bytes to pys/marshmountainsort.py\n",
      "Submitted batch job 23034077\n",
      "[NbConvertApp] Converting notebook marshmountainsort.ipynb to script\n",
      "[NbConvertApp] Writing 27715 bytes to pys/marshmountainsort.py\n",
      "Submitted batch job 23034088\n",
      "[NbConvertApp] Converting notebook marshmountainsort.ipynb to script\n",
      "[NbConvertApp] Writing 27715 bytes to pys/marshmountainsort.py\n",
      "Submitted batch job 23034089\n",
      "[NbConvertApp] Converting notebook marshmountainsort.ipynb to script\n",
      "[NbConvertApp] Writing 27715 bytes to pys/marshmountainsort.py\n",
      "Submitted batch job 23034090\n",
      "[NbConvertApp] Converting notebook marshmountainsort.ipynb to script\n",
      "[NbConvertApp] Writing 27715 bytes to pys/marshmountainsort.py\n",
      "Submitted batch job 23034096\n",
      "[NbConvertApp] Converting notebook marshmountainsort.ipynb to script\n",
      "[NbConvertApp] Writing 27715 bytes to pys/marshmountainsort.py\n",
      "Submitted batch job 23034099\n",
      "[NbConvertApp] Converting notebook marshmountainsort.ipynb to script\n",
      "[NbConvertApp] Writing 27715 bytes to pys/marshmountainsort.py\n",
      "Submitted batch job 23034191\n",
      "[NbConvertApp] Converting notebook marshmountainsort.ipynb to script\n",
      "[NbConvertApp] Writing 27715 bytes to pys/marshmountainsort.py\n",
      "Submitted batch job 23034201\n",
      "[NbConvertApp] Converting notebook marshmountainsort.ipynb to script\n",
      "[NbConvertApp] Writing 27715 bytes to pys/marshmountainsort.py\n",
      "Submitted batch job 23034212\n",
      "[NbConvertApp] Converting notebook marshmountainsort.ipynb to script\n",
      "[NbConvertApp] Writing 27715 bytes to pys/marshmountainsort.py\n",
      "Submitted batch job 23034216\n",
      "[NbConvertApp] Converting notebook marshmountainsort.ipynb to script\n",
      "[NbConvertApp] Writing 27715 bytes to pys/marshmountainsort.py\n",
      "Submitted batch job 23034223\n",
      "[NbConvertApp] Converting notebook marshmountainsort.ipynb to script\n",
      "[NbConvertApp] Writing 27715 bytes to pys/marshmountainsort.py\n",
      "Submitted batch job 23034233\n",
      "[NbConvertApp] Converting notebook marshmountainsort.ipynb to script\n",
      "[NbConvertApp] Writing 27715 bytes to pys/marshmountainsort.py\n",
      "Submitted batch job 23034234\n",
      "[NbConvertApp] Converting notebook marshmountainsort.ipynb to script\n",
      "[NbConvertApp] Writing 27715 bytes to pys/marshmountainsort.py\n",
      "Submitted batch job 23034237\n",
      "[NbConvertApp] Converting notebook marshmountainsort.ipynb to script\n",
      "[NbConvertApp] Writing 27715 bytes to pys/marshmountainsort.py\n",
      "Submitted batch job 23034240\n",
      "[NbConvertApp] Converting notebook marshmountainsort.ipynb to script\n",
      "[NbConvertApp] Writing 27715 bytes to pys/marshmountainsort.py\n",
      "Submitted batch job 23034244\n",
      "[NbConvertApp] Converting notebook marshmountainsort.ipynb to script\n",
      "[NbConvertApp] Writing 27715 bytes to pys/marshmountainsort.py\n",
      "Submitted batch job 23034249\n",
      "[NbConvertApp] Converting notebook marshmountainsort.ipynb to script\n",
      "[NbConvertApp] Writing 27715 bytes to pys/marshmountainsort.py\n",
      "Submitted batch job 23034250\n",
      "[NbConvertApp] Converting notebook marshmountainsort.ipynb to script\n",
      "[NbConvertApp] Writing 27715 bytes to pys/marshmountainsort.py\n",
      "Submitted batch job 23034254\n",
      "[NbConvertApp] Converting notebook marshmountainsort.ipynb to script\n",
      "[NbConvertApp] Writing 27715 bytes to pys/marshmountainsort.py\n",
      "Submitted batch job 23034258\n",
      "[NbConvertApp] Converting notebook marshmountainsort.ipynb to script\n",
      "[NbConvertApp] Writing 27715 bytes to pys/marshmountainsort.py\n",
      "Submitted batch job 23034260\n",
      "[NbConvertApp] Converting notebook marshmountainsort.ipynb to script\n",
      "[NbConvertApp] Writing 27715 bytes to pys/marshmountainsort.py\n",
      "Submitted batch job 23034262\n",
      "[NbConvertApp] Converting notebook marshmountainsort.ipynb to script\n",
      "[NbConvertApp] Writing 27715 bytes to pys/marshmountainsort.py\n",
      "Submitted batch job 23034298\n",
      "[NbConvertApp] Converting notebook marshmountainsort.ipynb to script\n",
      "[NbConvertApp] Writing 27715 bytes to pys/marshmountainsort.py\n",
      "Submitted batch job 23034315\n",
      "[NbConvertApp] Converting notebook marshmountainsort.ipynb to script\n",
      "[NbConvertApp] Writing 27715 bytes to pys/marshmountainsort.py\n",
      "Submitted batch job 23034343\n",
      "[NbConvertApp] Converting notebook marshmountainsort.ipynb to script\n",
      "[NbConvertApp] Writing 27715 bytes to pys/marshmountainsort.py\n",
      "Submitted batch job 23034357\n",
      "[NbConvertApp] Converting notebook marshmountainsort.ipynb to script\n",
      "[NbConvertApp] Writing 27715 bytes to pys/marshmountainsort.py\n",
      "Submitted batch job 23034373\n",
      "[NbConvertApp] Converting notebook marshmountainsort.ipynb to script\n",
      "[NbConvertApp] Writing 27715 bytes to pys/marshmountainsort.py\n",
      "Submitted batch job 23034382\n",
      "[NbConvertApp] Converting notebook marshmountainsort.ipynb to script\n",
      "[NbConvertApp] Writing 27715 bytes to pys/marshmountainsort.py\n",
      "Submitted batch job 23034394\n",
      "[NbConvertApp] Converting notebook marshmountainsort.ipynb to script\n",
      "[NbConvertApp] Writing 27715 bytes to pys/marshmountainsort.py\n",
      "Submitted batch job 23034408\n",
      "[NbConvertApp] Converting notebook marshmountainsort.ipynb to script\n",
      "[NbConvertApp] Writing 27715 bytes to pys/marshmountainsort.py\n",
      "Submitted batch job 23034433\n",
      "[NbConvertApp] Converting notebook marshmountainsort.ipynb to script\n",
      "[NbConvertApp] Writing 27715 bytes to pys/marshmountainsort.py\n",
      "Submitted batch job 23034449\n",
      "[NbConvertApp] Converting notebook marshmountainsort.ipynb to script\n",
      "[NbConvertApp] Writing 27715 bytes to pys/marshmountainsort.py\n",
      "Submitted batch job 23034465\n",
      "[NbConvertApp] Converting notebook marshmountainsort.ipynb to script\n",
      "[NbConvertApp] Writing 27715 bytes to pys/marshmountainsort.py\n",
      "Submitted batch job 23034477\n",
      "[NbConvertApp] Converting notebook marshmountainsort.ipynb to script\n",
      "[NbConvertApp] Writing 27715 bytes to pys/marshmountainsort.py\n",
      "Submitted batch job 23034502\n",
      "[NbConvertApp] Converting notebook marshmountainsort.ipynb to script\n",
      "[NbConvertApp] Writing 27715 bytes to pys/marshmountainsort.py\n",
      "Submitted batch job 23034588\n",
      "[NbConvertApp] Converting notebook marshmountainsort.ipynb to script\n",
      "[NbConvertApp] Writing 27715 bytes to pys/marshmountainsort.py\n",
      "Submitted batch job 23034598\n",
      "[NbConvertApp] Converting notebook marshmountainsort.ipynb to script\n",
      "[NbConvertApp] Writing 27715 bytes to pys/marshmountainsort.py\n",
      "Submitted batch job 23034614\n",
      "[NbConvertApp] Converting notebook marshmountainsort.ipynb to script\n",
      "[NbConvertApp] Writing 27715 bytes to pys/marshmountainsort.py\n",
      "Submitted batch job 23034623\n",
      "[NbConvertApp] Converting notebook marshmountainsort.ipynb to script\n",
      "[NbConvertApp] Writing 27715 bytes to pys/marshmountainsort.py\n",
      "Submitted batch job 23034629\n",
      "[NbConvertApp] Converting notebook marshmountainsort.ipynb to script\n",
      "[NbConvertApp] Writing 27715 bytes to pys/marshmountainsort.py\n",
      "Submitted batch job 23034634\n",
      "[NbConvertApp] Converting notebook marshmountainsort.ipynb to script\n",
      "[NbConvertApp] Writing 27715 bytes to pys/marshmountainsort.py\n",
      "Submitted batch job 23034638\n",
      "[NbConvertApp] Converting notebook marshmountainsort.ipynb to script\n",
      "[NbConvertApp] Writing 27715 bytes to pys/marshmountainsort.py\n",
      "Submitted batch job 23034642\n",
      "[NbConvertApp] Converting notebook marshmountainsort.ipynb to script\n",
      "[NbConvertApp] Writing 27715 bytes to pys/marshmountainsort.py\n",
      "Submitted batch job 23034650\n",
      "[NbConvertApp] Converting notebook marshmountainsort.ipynb to script\n",
      "[NbConvertApp] Writing 27715 bytes to pys/marshmountainsort.py\n",
      "Submitted batch job 23034756\n",
      "[NbConvertApp] Converting notebook marshmountainsort.ipynb to script\n",
      "[NbConvertApp] Writing 27715 bytes to pys/marshmountainsort.py\n",
      "Submitted batch job 23034869\n",
      "[NbConvertApp] Converting notebook marshmountainsort.ipynb to script\n",
      "[NbConvertApp] Writing 27715 bytes to pys/marshmountainsort.py\n",
      "Submitted batch job 23034879\n",
      "[NbConvertApp] Converting notebook marshmountainsort.ipynb to script\n",
      "[NbConvertApp] Writing 27715 bytes to pys/marshmountainsort.py\n",
      "Submitted batch job 23034886\n",
      "[NbConvertApp] Converting notebook marshmountainsort.ipynb to script\n",
      "[NbConvertApp] Writing 27715 bytes to pys/marshmountainsort.py\n",
      "Submitted batch job 23034895\n",
      "[NbConvertApp] Converting notebook marshmountainsort.ipynb to script\n",
      "[NbConvertApp] Writing 27715 bytes to pys/marshmountainsort.py\n",
      "Submitted batch job 23034899\n",
      "[NbConvertApp] Converting notebook marshmountainsort.ipynb to script\n",
      "[NbConvertApp] Writing 27715 bytes to pys/marshmountainsort.py\n",
      "Submitted batch job 23034903\n",
      "[NbConvertApp] Converting notebook marshmountainsort.ipynb to script\n",
      "[NbConvertApp] Writing 27715 bytes to pys/marshmountainsort.py\n",
      "Submitted batch job 23034908\n",
      "[NbConvertApp] Converting notebook marshmountainsort.ipynb to script\n",
      "[NbConvertApp] Writing 27715 bytes to pys/marshmountainsort.py\n",
      "Submitted batch job 23034912\n",
      "[NbConvertApp] Converting notebook marshmountainsort.ipynb to script\n",
      "[NbConvertApp] Writing 27715 bytes to pys/marshmountainsort.py\n",
      "Submitted batch job 23034976\n",
      "[NbConvertApp] Converting notebook marshmountainsort.ipynb to script\n",
      "[NbConvertApp] Writing 27715 bytes to pys/marshmountainsort.py\n",
      "Submitted batch job 23034993\n",
      "[NbConvertApp] Converting notebook marshmountainsort.ipynb to script\n",
      "[NbConvertApp] Writing 27715 bytes to pys/marshmountainsort.py\n",
      "Submitted batch job 23035006\n",
      "[NbConvertApp] Converting notebook marshmountainsort.ipynb to script\n",
      "[NbConvertApp] Writing 27715 bytes to pys/marshmountainsort.py\n",
      "Submitted batch job 23035026\n",
      "[NbConvertApp] Converting notebook marshmountainsort.ipynb to script\n",
      "[NbConvertApp] Writing 27715 bytes to pys/marshmountainsort.py\n",
      "Submitted batch job 23035037\n",
      "[NbConvertApp] Converting notebook marshmountainsort.ipynb to script\n",
      "[NbConvertApp] Writing 27715 bytes to pys/marshmountainsort.py\n",
      "Submitted batch job 23035049\n",
      "[NbConvertApp] Converting notebook marshmountainsort.ipynb to script\n",
      "[NbConvertApp] Writing 27715 bytes to pys/marshmountainsort.py\n",
      "Submitted batch job 23035069\n",
      "[NbConvertApp] Converting notebook marshmountainsort.ipynb to script\n",
      "[NbConvertApp] Writing 27715 bytes to pys/marshmountainsort.py\n",
      "Submitted batch job 23035083\n",
      "[NbConvertApp] Converting notebook marshmountainsort.ipynb to script\n",
      "[NbConvertApp] Writing 27715 bytes to pys/marshmountainsort.py\n",
      "Submitted batch job 23035094\n",
      "[NbConvertApp] Converting notebook marshmountainsort.ipynb to script\n",
      "[NbConvertApp] Writing 27715 bytes to pys/marshmountainsort.py\n",
      "Submitted batch job 23035106\n",
      "[NbConvertApp] Converting notebook marshmountainsort.ipynb to script\n",
      "[NbConvertApp] Writing 27715 bytes to pys/marshmountainsort.py\n",
      "Submitted batch job 23035125\n",
      "[NbConvertApp] Converting notebook marshmountainsort.ipynb to script\n",
      "[NbConvertApp] Writing 27715 bytes to pys/marshmountainsort.py\n",
      "Submitted batch job 23035137\n",
      "[NbConvertApp] Converting notebook marshmountainsort.ipynb to script\n",
      "[NbConvertApp] Writing 27715 bytes to pys/marshmountainsort.py\n",
      "Submitted batch job 23035145\n",
      "[NbConvertApp] Converting notebook marshmountainsort.ipynb to script\n",
      "[NbConvertApp] Writing 27715 bytes to pys/marshmountainsort.py\n",
      "Submitted batch job 23035152\n",
      "[NbConvertApp] Converting notebook marshmountainsort.ipynb to script\n",
      "[NbConvertApp] Writing 27715 bytes to pys/marshmountainsort.py\n",
      "Submitted batch job 23035157\n",
      "[NbConvertApp] Converting notebook marshmountainsort.ipynb to script\n",
      "[NbConvertApp] Writing 27715 bytes to pys/marshmountainsort.py\n",
      "Submitted batch job 23035162\n",
      "[NbConvertApp] Converting notebook marshmountainsort.ipynb to script\n",
      "[NbConvertApp] Writing 27715 bytes to pys/marshmountainsort.py\n",
      "Submitted batch job 23035170\n",
      "[NbConvertApp] Converting notebook marshmountainsort.ipynb to script\n",
      "[NbConvertApp] Writing 27715 bytes to pys/marshmountainsort.py\n",
      "Submitted batch job 23035178\n",
      "[NbConvertApp] Converting notebook marshmountainsort.ipynb to script\n",
      "[NbConvertApp] Writing 27715 bytes to pys/marshmountainsort.py\n",
      "Submitted batch job 23035182\n",
      "[NbConvertApp] Converting notebook marshmountainsort.ipynb to script\n",
      "[NbConvertApp] Writing 27715 bytes to pys/marshmountainsort.py\n",
      "Submitted batch job 23035186\n",
      "[NbConvertApp] Converting notebook marshmountainsort.ipynb to script\n",
      "[NbConvertApp] Writing 27715 bytes to pys/marshmountainsort.py\n",
      "Submitted batch job 23035194\n",
      "[NbConvertApp] Converting notebook marshmountainsort.ipynb to script\n",
      "[NbConvertApp] Writing 27715 bytes to pys/marshmountainsort.py\n",
      "Submitted batch job 23035206\n",
      "[NbConvertApp] Converting notebook marshmountainsort.ipynb to script\n",
      "[NbConvertApp] Writing 27715 bytes to pys/marshmountainsort.py\n",
      "Submitted batch job 23035214\n",
      "[NbConvertApp] Converting notebook marshmountainsort.ipynb to script\n",
      "[NbConvertApp] Writing 27715 bytes to pys/marshmountainsort.py\n",
      "Submitted batch job 23035232\n",
      "[NbConvertApp] Converting notebook marshmountainsort.ipynb to script\n",
      "[NbConvertApp] Writing 27715 bytes to pys/marshmountainsort.py\n",
      "Submitted batch job 23035246\n",
      "[NbConvertApp] Converting notebook marshmountainsort.ipynb to script\n",
      "[NbConvertApp] Writing 27715 bytes to pys/marshmountainsort.py\n",
      "Submitted batch job 23035271\n",
      "[NbConvertApp] Converting notebook marshmountainsort.ipynb to script\n",
      "[NbConvertApp] Writing 27715 bytes to pys/marshmountainsort.py\n",
      "Submitted batch job 23035283\n",
      "[NbConvertApp] Converting notebook marshmountainsort.ipynb to script\n",
      "[NbConvertApp] Writing 27715 bytes to pys/marshmountainsort.py\n",
      "Submitted batch job 23035295\n",
      "[NbConvertApp] Converting notebook marshmountainsort.ipynb to script\n",
      "[NbConvertApp] Writing 27715 bytes to pys/marshmountainsort.py\n",
      "Submitted batch job 23035314\n",
      "[NbConvertApp] Converting notebook marshmountainsort.ipynb to script\n",
      "[NbConvertApp] Writing 27715 bytes to pys/marshmountainsort.py\n",
      "Submitted batch job 23035336\n",
      "[NbConvertApp] Converting notebook marshmountainsort.ipynb to script\n",
      "[NbConvertApp] Writing 27715 bytes to pys/marshmountainsort.py\n",
      "Submitted batch job 23035365\n",
      "[NbConvertApp] Converting notebook marshmountainsort.ipynb to script\n",
      "[NbConvertApp] Writing 27715 bytes to pys/marshmountainsort.py\n",
      "Submitted batch job 23035389\n",
      "[NbConvertApp] Converting notebook marshmountainsort.ipynb to script\n",
      "[NbConvertApp] Writing 27715 bytes to pys/marshmountainsort.py\n",
      "Submitted batch job 23035406\n",
      "[NbConvertApp] Converting notebook marshmountainsort.ipynb to script\n",
      "[NbConvertApp] Writing 27715 bytes to pys/marshmountainsort.py\n",
      "Submitted batch job 23035417\n",
      "[NbConvertApp] Converting notebook marshmountainsort.ipynb to script\n",
      "[NbConvertApp] Writing 27715 bytes to pys/marshmountainsort.py\n",
      "Submitted batch job 23035432\n",
      "[NbConvertApp] Converting notebook marshmountainsort.ipynb to script\n",
      "[NbConvertApp] Writing 27715 bytes to pys/marshmountainsort.py\n",
      "Submitted batch job 23035442\n",
      "[NbConvertApp] Converting notebook marshmountainsort.ipynb to script\n",
      "[NbConvertApp] Writing 27715 bytes to pys/marshmountainsort.py\n",
      "Submitted batch job 23035454\n",
      "[NbConvertApp] Converting notebook marshmountainsort.ipynb to script\n",
      "[NbConvertApp] Writing 27715 bytes to pys/marshmountainsort.py\n",
      "Submitted batch job 23035465\n",
      "[NbConvertApp] Converting notebook marshmountainsort.ipynb to script\n",
      "[NbConvertApp] Writing 27715 bytes to pys/marshmountainsort.py\n",
      "Submitted batch job 23035472\n",
      "[NbConvertApp] Converting notebook marshmountainsort.ipynb to script\n",
      "[NbConvertApp] Writing 27715 bytes to pys/marshmountainsort.py\n",
      "Submitted batch job 23035487\n",
      "[NbConvertApp] Converting notebook marshmountainsort.ipynb to script\n",
      "[NbConvertApp] Writing 27715 bytes to pys/marshmountainsort.py\n",
      "Submitted batch job 23035498\n",
      "[NbConvertApp] Converting notebook marshmountainsort.ipynb to script\n",
      "[NbConvertApp] Writing 27715 bytes to pys/marshmountainsort.py\n",
      "Submitted batch job 23035515\n",
      "[NbConvertApp] Converting notebook marshmountainsort.ipynb to script\n",
      "[NbConvertApp] Writing 27715 bytes to pys/marshmountainsort.py\n",
      "Submitted batch job 23035521\n",
      "[NbConvertApp] Converting notebook marshmountainsort.ipynb to script\n",
      "[NbConvertApp] Writing 27715 bytes to pys/marshmountainsort.py\n",
      "Submitted batch job 23035530\n",
      "[NbConvertApp] Converting notebook marshmountainsort.ipynb to script\n",
      "[NbConvertApp] Writing 27715 bytes to pys/marshmountainsort.py\n",
      "Submitted batch job 23035535\n",
      "[NbConvertApp] Converting notebook marshmountainsort.ipynb to script\n",
      "[NbConvertApp] Writing 27715 bytes to pys/marshmountainsort.py\n",
      "Submitted batch job 23035541\n",
      "[NbConvertApp] Converting notebook marshmountainsort.ipynb to script\n",
      "[NbConvertApp] Writing 27715 bytes to pys/marshmountainsort.py\n",
      "Submitted batch job 23035588\n"
     ]
    }
   ],
   "source": [
    "# Same as above, but manually run if GENERATEALL is True. Iterates through all files\n",
    "# Before running, remember to reset the filecount to 0. See cell under GENERATEALL\n",
    "\n",
    "n_generateall = 120  # > Number of TXTs * 3 + 5 for safety\n",
    "\n",
    "for i in range(n_generateall):\n",
    "    !jupyter nbconvert --to script marshmountainsort.ipynb --TagRemovePreprocessor.remove_cell_tags='{\"note\"}' --output-dir ./pys\n",
    "    !sbatch --mem=20G -t 24:00:00 /mnt/isilon/marsh_single_unit/MarshMountainSort/MarshMountainSort.sh\n",
    "    !sleep 15"
   ]
  },
  {
   "cell_type": "markdown",
   "id": "f979b641-8952-4ac5-89b8-b86ea6fb4dfe",
   "metadata": {},
   "source": [
    "## Analysis Constants"
   ]
  },
  {
   "cell_type": "code",
   "execution_count": 1,
   "id": "9858007d-4b72-4165-bd6b-472cfe295744",
   "metadata": {
    "editable": true,
    "slideshow": {
     "slide_type": ""
    },
    "tags": []
   },
   "outputs": [],
   "source": [
    "# If True, uses rec_folders to get file names and run scripts. Code will ignore rec_folder and tetrode_name.\n",
    "# Set True if generating all .bins or figures.\n",
    "# Remember to reset filecount.pk! See below scripts\n",
    "GENERATEALL = False\n",
    "\n",
    "# If you want to convert .txt into .bin (Warning: time consuming!!! ~4hrs)\n",
    "# Set True when you want to create/regenerate .bins. If so, run on HPC to save time\n",
    "# PARSENEW = True\n",
    "# Saves converted .txt files to .npy.gz instead of .bin (to save space). Should always be True\n",
    "SAVECOMP = True\n",
    "# If a .npy.gz is present alongside .bin, use the .npy.gz\n",
    "# FAVORCOMP = True\n"
   ]
  },
  {
   "cell_type": "code",
   "execution_count": 2,
   "id": "c514b8db-5c75-4b22-8a98-c19eac370626",
   "metadata": {
    "editable": true,
    "slideshow": {
     "slide_type": ""
    },
    "tags": []
   },
   "outputs": [
    {
     "name": "stdout",
     "output_type": "stream",
     "text": [
      "39\n"
     ]
    }
   ],
   "source": [
    "from pathlib import Path\n",
    "\n",
    "# Name of the TXT folder containing 1 .txt file with tetrodes. Ignored if GENERATEALL\n",
    "rec_folder = \"435-GCG-WT-F Test LFP microdrive 8-8-24_240808_143417\"\n",
    "\n",
    "# Choose between analyzing ca3, ca1s, or ca1o. Ignored if GENERATEALL\n",
    "tetrode_name = ['ca3', 'ca1s', 'ca1o'][2]\n",
    "\n",
    "\n",
    "# GENERATEALL: Name of every binary/TXT file. Can be pulled with findnewtxt.ipynb\n",
    "rec_folders = [\"1238_Exp_3 half turn after turning_5_3_17\",\n",
    "                \"766_WT_Final Protocol Morning 6th half turn +1_4 _recorded_ after turning_7-28-2017\",\n",
    "                \"766_WT_5th half turn_recorded after turning_7-26-2017\",\n",
    "                \"1269_EXP_4th half turn_recorded after recovery_7-31-2017\",\n",
    "                \"766_WT_Final Protocol Night 6th half turn +1_4 _recorded after turning_7-28-2017\",\n",
    "                \"766_WT_Final Protocol Morning 6th half turn_recorded after turning_7-27-2017\",\n",
    "                \"1244_Bl6_5th half turn_recorded after turning_ 7-02-2017\",\n",
    "                \"1269_EXP_Final Protocol 6th half + 1_4th quarter turn Morning_recorded after recovery_8-3-2017\",\n",
    "                \"1236_Exp_6 half turn after turning_Day1 night 5_5_17\",\n",
    "                \"766_WT_3rd half turn_recorded after turning_7-24-2017\",\n",
    "                \"1244_Bl6_Final Protocol_6th half turn_recorded after turning_Day1 morning 7-03-2017\",\n",
    "                \"1269_EXP_5th half turn_recorded after recovery_8-1-2017\",\n",
    "                \"1269_EXP_3rd half turn_recorded after recovery_7-28-2017\",\n",
    "                \"1269_ Exp_2nd 12 hour recording_8-9-17_Spike Wave-0 - Copy\",\n",
    "                \"1236_Exp_3 half turn after turning_5_3_17\",\n",
    "                \"766_WT_Final Protocol Night 6th half turn+2_4_recorded after turning_7-31-2017\",\n",
    "                \"1269_EXP_2nd half turn_recorded after recovery_7-27-2017\",\n",
    "                \"1244_Bl6_1st half turn_recorded after turning_6-28-2017\",\n",
    "                \"1236_Exp_4 half turn after turning_5_4_17\",\n",
    "                \"766_WT_Final Protocol Morning 6th half turn+3_4_recorded after turning_8-02-2017\",\n",
    "                \"1269_EXP_Final Protocol 6th half turn Morning_recorded after recovery_8-2-2017\",\n",
    "                \"1236_Expanded_2 half turns_after turning_05-02-17\",\n",
    "                \"1269_EXP_Final Protocol 6th half + 1_4th quarter turn Night_recorded after recovery_8-3-2017\",\n",
    "                \"1244_Bl6_2nd half turn_recorded after turning_ 6-29-2017\",\n",
    "                \"1244_Bl6_4th half turn_recorded after turning_ 7-01-2017\",\n",
    "                \"1236_Exp_6 half turn after turning_Day1 morning 5_5_17\",\n",
    "                \"1238_Exp_5 half turn after turning_5_5_17\",\n",
    "                \"1238_Exp_4 half turn after turning_5_4_17\",\n",
    "                \"766_WT_Final Protocol Night 6th half turn_recorded after turning_7-27-2017\",\n",
    "                \"1269_EXP_Final Protocol 6th half turn Night_recorded after recovery_8-2-2017\",\n",
    "                \"1236_Exp_5 half turn after turning_5_5_17\",\n",
    "                \"766_WT_Final Protocol Morning 6th half turn+2_4_recorded after turning_7-31-2017\",\n",
    "                \"1238_Exp_6 half turn after turning_ Day 1 morning 5_5_17\",\n",
    "                \"1269_ Exp_3rd 12 hour recording_8-10-17_Spike Wave-0 - Copy\",\n",
    "                \"1238_Expanded_2 half turns_after turning_05-02-17\",\n",
    "                \"1244_Bl6_3rd half turn_recorded after turning_ 6-30-2017\",\n",
    "                \"1238_Exp_6 half turn after turning_ Day 1 night 5_5_17\",\n",
    "                \"766_WT_4th half turn_recorded after turning_7-25-2017\",\n",
    "                \"766_WT_2nd half turn_recorded after turning_7-21-2017\"]\n",
    "print(len(rec_folders))\n",
    "\n",
    "# GENERATEALL: Name of every tetrode position\n",
    "tetrode_names = ['ca3', 'ca1s', 'ca1o']\n",
    "\n",
    "\n",
    "# Define Paths and folders used in analysis.\n",
    "base_folder_path = Path(f'/mnt/isilon/marsh_single_unit/MarshMountainSort')\n",
    "# raw_txts_folder = 'rawtxts'\n",
    "binary_folder = 'bins-rhd'\n",
    "intan_folder = 'rhds'\n",
    "temporary_folder = 'temp'\n",
    "# output_folder = 'output'\n",
    "filecount_name = 'filecount-intans.pk'\n"
   ]
  },
  {
   "cell_type": "markdown",
   "id": "f9c9953f-7a05-4ab0-a451-e17e0f0e3675",
   "metadata": {},
   "source": [
    "## Import Dependencies"
   ]
  },
  {
   "cell_type": "code",
   "execution_count": 3,
   "id": "4071d03f-ad15-4d3f-8bb7-f5eda0a7d003",
   "metadata": {
    "editable": true,
    "slideshow": {
     "slide_type": ""
    },
    "tags": []
   },
   "outputs": [
    {
     "name": "stderr",
     "output_type": "stream",
     "text": [
      "/mnt/isilon/marsh_single_unit/MarshMountainSort/venv/lib64/python3.9/site-packages/tqdm/auto.py:21: TqdmWarning: IProgress not found. Please update jupyter and ipywidgets. See https://ipywidgets.readthedocs.io/en/stable/user_install.html\n",
      "  from .autonotebook import tqdm as notebook_tqdm\n"
     ]
    }
   ],
   "source": [
    "from tempfile import TemporaryDirectory\n",
    "import numpy as np\n",
    "import pkg_resources\n",
    "pkg_resources.require('matplotlib==3.8.3')\n",
    "import matplotlib.pyplot as plt\n",
    "import os\n",
    "import warnings\n",
    "import time\n",
    "import sys\n",
    "import pickle\n",
    "import gzip\n",
    "\n",
    "import mountainsort5 as ms5\n",
    "from mountainsort5.util import create_cached_recording\n",
    "import spikeinterface.core as si\n",
    "import spikeinterface.extractors as se\n",
    "import spikeinterface.preprocessing as spre\n",
    "# import spikeinterface.sorters as ss\n",
    "# import spikeinterface.postprocessing as spost\n",
    "# import spikeinterface.qualitymetrics as sqm\n",
    "# import spikeinterface.exporters as sexp\n",
    "# import spikeinterface.comparison as scmp\n",
    "# import spikeinterface.curation as scur\n",
    "# import spikeinterface.sortingcomponents as sc\n",
    "# import spikeinterface.widgets as sw\n",
    "# import pyedflib\n",
    "# import sonpy\n",
    "# import zugbruecke\n",
    "import probeinterface as pi\n",
    "from probeinterface.plotting import plot_probe_group, plot_probe\n",
    "import ffmpeg\n",
    "# plt.rcParams(['animation.ffmpeg_path']) = ''\n",
    "plt.rcParams['figure.dpi'] = 150\n"
   ]
  },
  {
   "cell_type": "markdown",
   "id": "a44b8883-0555-4644-b07d-935764f4e841",
   "metadata": {},
   "source": [
    "## `GENERATEALL`: Get Filename and Step Filecount "
   ]
  },
  {
   "cell_type": "code",
   "execution_count": 4,
   "id": "2c091355-4a10-4bbd-a79a-620bd9a1adac",
   "metadata": {
    "editable": true,
    "slideshow": {
     "slide_type": ""
    },
    "tags": []
   },
   "outputs": [
    {
     "name": "stdout",
     "output_type": "stream",
     "text": [
      "Path for filecount:\n",
      "\t/mnt/isilon/marsh_single_unit/MarshMountainSort/filecount-intans.pk\n"
     ]
    }
   ],
   "source": [
    "fcount_file_path = base_folder_path / filecount_name\n",
    "print(f'Path for filecount:\\n\\t{fcount_file_path}')\n",
    "\n",
    "def reset_filecount():\n",
    "    with open(fcount_file_path, 'wb') as file:\n",
    "        pickle.dump(0, file, protocol=pickle.HIGHEST_PROTOCOL)\n",
    "\n",
    "def step_filecount():\n",
    "    with open(fcount_file_path, 'rb') as file:\n",
    "        out = pickle.load(file)\n",
    "    out += 1\n",
    "    with open(fcount_file_path, 'wb') as file:\n",
    "        pickle.dump(out, file, protocol=pickle.HIGHEST_PROTOCOL)\n",
    "        \n",
    "def get_filecount():\n",
    "    with open(fcount_file_path, 'rb') as file:\n",
    "        out = pickle.load(file)\n",
    "        return out\n",
    "\n",
    "def get_file(n):\n",
    "    return rec_folders[n // 3], tetrode_names[n % 3]\n",
    "    "
   ]
  },
  {
   "cell_type": "code",
   "execution_count": 5,
   "id": "a87b5a4e-e3d0-4baa-bc43-0a995c8588b6",
   "metadata": {
    "editable": true,
    "slideshow": {
     "slide_type": ""
    },
    "tags": [
     "note"
    ]
   },
   "outputs": [],
   "source": [
    "# RUN BEFORE GENERATEALL. Reset the filecount to 0.\n",
    "# This cell will be ignored when converting to .py executable, so to not reset filecount every iteration of loop\n",
    "if GENERATEALL:\n",
    "    print(f\"Filecount before was {get_filecount()}\")\n",
    "    reset_filecount()\n",
    "    print(f\"Filecount was reset to {get_filecount()}\")"
   ]
  },
  {
   "cell_type": "code",
   "execution_count": 6,
   "id": "45fb4edb-8d77-49bd-aa66-97a9db7b67c7",
   "metadata": {
    "editable": true,
    "slideshow": {
     "slide_type": ""
    },
    "tags": []
   },
   "outputs": [
    {
     "name": "stdout",
     "output_type": "stream",
     "text": [
      "==================================================\n",
      "\tREC_FOLDER: 435-GCG-WT-F Test LFP microdrive 8-8-24_240808_143417\n",
      "\tTETRODE_NAME: ca1o\n",
      "==================================================\n"
     ]
    }
   ],
   "source": [
    "##### DO NOT run this cell after resetting filecount. This will step filecount by 1! #####\n",
    "# If generating all figures, read folder and tetrode name and step filecount\n",
    "print(\"=\" * 50)\n",
    "if GENERATEALL:\n",
    "    rec_folder, tetrode_name = get_file(get_filecount())\n",
    "    print(f\"\\tFILECOUNT: {get_filecount()}\")\n",
    "    \n",
    "    for i in range(len(tetrode_names)):\n",
    "        step_filecount() # Skip 3 to next file, ignoring tetrodes\n",
    "        \n",
    "\n",
    "print(f\"\\tREC_FOLDER: {rec_folder}\\n\\tTETRODE_NAME: {tetrode_name}\")\n",
    "print(\"=\" * 50)"
   ]
  },
  {
   "cell_type": "markdown",
   "id": "ebe3d268-8a35-471f-a4ab-63f1074c8426",
   "metadata": {},
   "source": [
    "## Load .txt and Convert to .bin"
   ]
  },
  {
   "cell_type": "code",
   "execution_count": 7,
   "id": "badec2dd-7e7c-419c-8802-e9a2ec0bc1b0",
   "metadata": {},
   "outputs": [
    {
     "name": "stdout",
     "output_type": "stream",
     "text": [
      ".RHD to be used:\n",
      "\t/mnt/isilon/marsh_single_unit/MarshMountainSort/rhds/435-GCG-WT-F Test LFP microdrive 8-8-24_240808_143417/435-GCG-WT-F Test LFP microdrive 8-8-24_240808_143417.rhd\n",
      "Path for .BIN to be saved:\n",
      "\t/mnt/isilon/marsh_single_unit/MarshMountainSort/bins-rhd/435-GCG-WT-F Test LFP microdrive 8-8-24_240808_143417/435-GCG-WT-F Test LFP microdrive 8-8-24_240808_143417.bin\n",
      "Path for cached files to be saved:\n",
      "\t/mnt/isilon/marsh_single_unit/MarshMountainSort/temp\n"
     ]
    }
   ],
   "source": [
    "intan_folder_path = base_folder_path / intan_folder / rec_folder\n",
    "bin_folder_path = base_folder_path / binary_folder / rec_folder\n",
    "temp_folder_path = base_folder_path / temporary_folder\n",
    "\n",
    "intan_file = None\n",
    "for file in os.listdir(intan_folder_path):\n",
    "    if file.endswith(\".rhd\"):\n",
    "        intan_file = Path(file)\n",
    "        break\n",
    "if intan_file is None:\n",
    "    warnings.warn(\"No .RHD file found!\")\n",
    "    intan_file = \"\"\n",
    "\n",
    "intan_file_path = intan_folder_path / intan_file\n",
    "bin_file_path = bin_folder_path / f\"{rec_folder}.bin\"\n",
    "bin_file_path_ca3 = bin_folder_path / f\"{rec_folder}_ca3.bin\"\n",
    "bin_file_path_ca1s = bin_folder_path / f\"{rec_folder}_ca1s.bin\"\n",
    "bin_file_path_ca1o = bin_folder_path / f\"{rec_folder}_ca1o.bin\"\n",
    "\n",
    "# Report the PLX file\n",
    "print(f'.RHD to be used:\\n\\t{intan_file_path}')\n",
    "print(f'Path for .BIN to be saved:\\n\\t{bin_file_path}')\n",
    "print(f'Path for cached files to be saved:\\n\\t{temp_folder_path}')\n"
   ]
  },
  {
   "cell_type": "code",
   "execution_count": 51,
   "id": "5d491fd9-cfc3-444f-a073-ef004d71cae3",
   "metadata": {},
   "outputs": [
    {
     "data": {
      "text/plain": [
       "IntanRecordingExtractor: 8 channels - 25.0kHz - 1 segments - 7,500,032 samples \n",
       "                         300.00s (5.00 minutes) - uint16 dtype - 114.44 MiB\n",
       "  file_path: /mnt/isilon/marsh_single_unit/MarshMountainSort/rhds/435-GCG-WT-F Test LFP microdrive 8-8-24_240808_143417/435-GCG-WT-F Test LFP microdrive 8-8-24_240808_143417.rhd"
      ]
     },
     "metadata": {},
     "output_type": "display_data"
    },
    {
     "data": {
      "text/plain": [
       "array(['A-009', 'A-010', 'A-014', 'A-015', 'A-016', 'A-017', 'A-021',\n",
       "       'A-022'], dtype='<U64')"
      ]
     },
     "execution_count": 51,
     "metadata": {},
     "output_type": "execute_result"
    }
   ],
   "source": [
    "def get_channel_assignments(rectype):\n",
    "    assert rectype in ['eeg', 'tetrodes'], \"rectype should be 'eeg' or 'tetrodes'\"\n",
    "\n",
    "    if rectype == 'eeg':\n",
    "        return ['L-AudCtx', 'L-VisCtx', 'L-Barrel', 'L-MotCtx',\n",
    "                'R-MotCtx', 'R-Barrel', 'R-VisCtx', 'R-AudCtx']\n",
    "    else:\n",
    "        return ['ca3L', 'ca3L', 'ca3L', 'ca3L',\n",
    "                'ca1L', 'ca1L', 'ca1L', 'ca1L',\n",
    "                'ca1R', 'ca1R', 'ca1R', 'ca1R',\n",
    "                'ca3R', 'ca3R', 'ca3R', 'ca3R', ]\n",
    "\n",
    "# Convert uint16 datatype to float32 by rescaling\n",
    "# See https://spikeinterface.readthedocs.io/en/latest/tutorials/extractors/plot_2_working_with_unscaled_traces.html\n",
    "intan_rec = se.read_intan(intan_file_path, stream_name='RHD2000 amplifier channel', use_names_as_ids=True)\n",
    "\n",
    "display(intan_rec)\n",
    "intan_rec.get_channel_ids()"
   ]
  },
  {
   "cell_type": "code",
   "execution_count": 52,
   "id": "e95b3d45-8c12-458a-9b21-e968e936135a",
   "metadata": {},
   "outputs": [
    {
     "name": "stdout",
     "output_type": "stream",
     "text": [
      "write_zarr_recording with n_jobs = 1 and chunk_size = 25000\n"
     ]
    },
    {
     "name": "stderr",
     "output_type": "stream",
     "text": [
      "write_zarr_recording: 100%|###########################| 301/301 [01:23<00:00,  3.62it/s]\n"
     ]
    },
    {
     "name": "stdout",
     "output_type": "stream",
     "text": [
      "Time elapsed to save compressed Intan recording: 83.54232239723206 s\n"
     ]
    }
   ],
   "source": [
    "\n",
    "# Remove existing .zarr directory if it exists\n",
    "if os.path.exists(f\"{bin_folder_path}.zarr\"):\n",
    "    shutil.rmtree(f\"{bin_folder_path}.zarr\", ignore_errors=True)\n",
    "\n",
    "# intan_rec = si.generate_recording_by_size(10, num_channels=16) # Testing save speed\n",
    "\n",
    "\n",
    "tstart = time.time()\n",
    "intan_rec.save(format='zarr', folder=bin_folder_path, dtype=np.float32, progress_bar=True, mp_context='spawn')\n",
    "tend = time.time()\n",
    "print(f\"Time elapsed to save compressed Intan recording: {tend-tstart} s\")"
   ]
  },
  {
   "cell_type": "code",
   "execution_count": 45,
   "id": "44919717-585a-4374-92c3-3b66c2e428f2",
   "metadata": {},
   "outputs": [],
   "source": [
    "def blocks(files, size=65536):\n",
    "    while True:\n",
    "        b = files.read(size)\n",
    "        if not b: break\n",
    "        yield b\n",
    "\n",
    "if PARSENEW:\n",
    "    tstart = time.time()\n",
    "    with open(txt_file_path, \"r\", encoding=\"utf-8\", errors='ignore') as f:\n",
    "        nlines = sum(bl.count(\"\\n\") for bl in blocks(f))\n",
    "    tend = time.time()\n",
    "    print(f\"Time elapsed: {tend - tstart} seconds\")"
   ]
  },
  {
   "cell_type": "code",
   "execution_count": 46,
   "id": "c5ce7d27-ce56-4df4-be4e-7ede43f7faf0",
   "metadata": {},
   "outputs": [],
   "source": [
    "# Read TXT file and convert to Binary\n",
    "\n",
    "ncol = 16 # Number of channels in full recording, not including time column\n",
    "ncol_tet = 4 # Number of channels in 1 tetrode\n",
    "nheader = 12 # Number of lines in Dwave block header\n",
    "f_s = 25000\n",
    "\n",
    "if PARSENEW:\n",
    "    ncol_arr = np.arange(ncol + 1) # including time column\n",
    "    nrblocks = nlines / (f_s + nheader) # 1 recording block has header + 1s of recording data\n",
    "    print(f\"Number of recording blocks: {nrblocks}\")\n",
    "    nrblocks = round(nrblocks)\n"
   ]
  },
  {
   "cell_type": "code",
   "execution_count": 47,
   "id": "6845abb2-9233-42d6-9807-03df7d744824",
   "metadata": {},
   "outputs": [],
   "source": [
    "if PARSENEW:\n",
    "    txtblocks = []\n",
    "    tstart = time.time()\n",
    "    \n",
    "    for i in range(nrblocks):\n",
    "        txtblocks.append(np.loadtxt(txt_file_path, dtype=np.float32, delimiter='\\t', usecols=ncol_arr, skiprows=(f_s+nheader)*i+nheader, max_rows=f_s))\n",
    "        if i % 50 == 0:\n",
    "            print(f\"Processing block {i}..\")\n",
    "    \n",
    "    txtdata = np.concatenate(txtblocks, axis=0)\n",
    "    print(txtdata.shape)\n",
    "\n",
    "    tend = time.time()\n",
    "    print(f\"Time elapsed: {tend - tstart} seconds\")"
   ]
  },
  {
   "cell_type": "code",
   "execution_count": 48,
   "id": "114e180f-d1c4-45b4-9a70-4f69892581b2",
   "metadata": {},
   "outputs": [
    {
     "name": "stdout",
     "output_type": "stream",
     "text": [
      "/home/dongjp/Documents/marshmountainsort/bins/1176_WT Bl6_6 half turns + 1-8th of full turn_right after turning_02-10-17\n"
     ]
    }
   ],
   "source": [
    "print(bin_folder_path)\n",
    "if PARSENEW:\n",
    "    # if os.path.exists(bin_folder_path):\n",
    "    #     shutil.rmtree(bin_folder_path, ignore_errors=True)\n",
    "    os.makedirs(bin_folder_path, exist_ok=True)"
   ]
  },
  {
   "cell_type": "code",
   "execution_count": 49,
   "id": "48d58537-5cc4-45f7-91fd-38e386333058",
   "metadata": {},
   "outputs": [],
   "source": [
    "def save_comp(arr, filepath):\n",
    "    fcomp_name = filepath.parent / f\"{filepath.stem}.npy.gz\"\n",
    "    with gzip.GzipFile(fcomp_name, \"w\") as fcomp:\n",
    "        np.save(file=fcomp, arr=arr)\n",
    "    print(f\"Compressed: {fcomp_name.name}\")\n",
    "\n",
    "\n",
    "if PARSENEW:\n",
    "    tstart = time.time()\n",
    "    txtdata_notime = txtdata[:, 1:] # Discard time\n",
    "\n",
    "    # Reorder data because of weird Datawave order convention.\n",
    "    # Datawave sorts alphabetically, so 10-15 are before 2 and after 1\n",
    "    # permutation = [0, 1, 10, 11, 12, 13, 14, 15, 2, 3, 4, 5, 6, 7, 8, 9]\n",
    "    # idx = np.empty_like(permutation)\n",
    "    # idx[permutation] = np.arange(len(permutation))\n",
    "    # txtdata_notime[:] = txtdata_notime[:, idx]\n",
    "\n",
    "    print(txtdata_notime.shape)\n",
    "    print(\"Saving files..\")\n",
    "    # txtdata_notime = np.transpose(txtdata_notime)\n",
    "    \n",
    "    txtdata_ca3 = txtdata_notime[:, 0:4]\n",
    "    txtdata_ca1o = txtdata_notime[:, 4:8]\n",
    "    txtdata_ca1s = txtdata_notime[:, 10:14]\n",
    "\n",
    "    if SAVECOMP:\n",
    "        save_comp(txtdata_notime, bin_file_path)\n",
    "        save_comp(txtdata_ca3, bin_file_path_ca3)\n",
    "        save_comp(txtdata_ca1o, bin_file_path_ca1o)\n",
    "        save_comp(txtdata_ca1s, bin_file_path_ca1s)\n",
    "    else:\n",
    "        txtdata_notime.tofile(bin_file_path) # Will save in row major order 'C'\n",
    "        txtdata_ca3.tofile(bin_file_path_ca3)\n",
    "        txtdata_ca1o.tofile(bin_file_path_ca1s)\n",
    "        txtdata_ca1s.tofile(bin_file_path_ca1o)\n",
    "\n",
    "    tend = time.time()\n",
    "    print(f\"Binary files saved. Time elapsed: {tend - tstart} seconds\")\n",
    "    print(\"=\" * 50)"
   ]
  },
  {
   "cell_type": "code",
   "execution_count": 50,
   "id": "d4f498af-0332-482f-91bf-4c72a3bea9fd",
   "metadata": {},
   "outputs": [],
   "source": [
    "if not MAKEFIGS:\n",
    "    print(\"MAKEFIGS is false. Finishing program.\")\n",
    "    time.sleep(3)\n",
    "    sys.exit()"
   ]
  },
  {
   "cell_type": "markdown",
   "id": "c01f79d4-bff8-44c5-b816-f5e4bbc530a0",
   "metadata": {
    "jp-MarkdownHeadingCollapsed": true
   },
   "source": [
    "## Define Probe Groups"
   ]
  },
  {
   "cell_type": "code",
   "execution_count": 51,
   "id": "65faac04-a068-4649-93ce-f4cd3f3e9aff",
   "metadata": {},
   "outputs": [
    {
     "name": "stdout",
     "output_type": "stream",
     "text": [
      "[(0, 0) (0, 1) (0, 2) (0, 3)]\n"
     ]
    },
    {
     "data": {
      "text/plain": [
       "<Figure size 960x720 with 0 Axes>"
      ]
     },
     "metadata": {},
     "output_type": "display_data"
    },
    {
     "data": {
      "image/png": "[encoded data removed]",
      "text/plain": [
       "<Figure size 960x720 with 1 Axes>"
      ]
     },
     "metadata": {},
     "output_type": "display_data"
    }
   ],
   "source": [
    "pg = pi.ProbeGroup()\n",
    "\n",
    "tetrode_x = np.array([-2500, 2000, -2000, 2500 ]) # um\n",
    "tetrode_y = np.array([-480, 0, 0, -480]) # um\n",
    "tetrode_z = np.array([-1000, 0, 0, -1000]) # um\n",
    "global_device_channel_indices = [0, 1, 2, 3, # corresponds to Datawave channel\n",
    "                                 4, 5, 6, 7,\n",
    "                                 10, 11, 12, 13,\n",
    "                                 -1, -1, -1, -1]\n",
    "plot_xlim = np.array([-3000, 3000])\n",
    "plot_ylim = np.array([-1000, 1000])\n",
    "plot_zlim = np.array([-1500, 500])\n",
    "\n",
    "### TEST MULTIPLIER. VISUALIZATION PURPOSES ONLY\n",
    "testmult = None\n",
    "if testmult is not None:\n",
    "    warnmessage = f'testmult is not None. Distances are {testmult}x smaller!'\n",
    "    warnings.warn(warnmessage)\n",
    "    tetrode_x = tetrode_x * testmult\n",
    "    tetrode_y = tetrode_y * testmult\n",
    "    tetrode_z = tetrode_z * testmult\n",
    "    plot_xlim = plot_xlim * testmult\n",
    "    plot_ylim = plot_ylim * testmult\n",
    "    plot_zlim = plot_zlim * testmult\n",
    "### TEST MULTIPLIER\n",
    "\n",
    "fig, ax1 = plt.subplots(1, 1, subplot_kw={'projection': '3d'})\n",
    "fig, ax2 = plt.subplots(1, 1)\n",
    "for i in range(4):\n",
    "    tetrode = pi.generate_tetrode()\n",
    "\n",
    "    if not SINGLETETRODE:\n",
    "        tetrode_3d = tetrode.to_3d('xy')\n",
    "        tetrode_3d.move([tetrode_x[i], tetrode_y[i], tetrode_z[i]])\n",
    "        tetrode_3d.set_device_channel_indices(global_device_channel_indices[i*4:i*4+4])\n",
    "        tetrode_3d.set_contact_ids(np.arange(i*4, i*4+4, 1))\n",
    "        tet_add = tetrode_3d\n",
    "        \n",
    "        tetrode_3dproj = tetrode_3d.to_2d('xy')\n",
    "        tetrode_3dproj.set_device_channel_indices(global_device_channel_indices[i*4:i*4+4])\n",
    "        tetrode_3dproj.set_contact_ids(np.arange(i*4, i*4+4, 1))\n",
    "        \n",
    "        plot_probe(tet_add, ax=ax1)\n",
    "        plot_probe(tetrode_3dproj, ax=ax2, with_device_index=True, with_contact_id=True)\n",
    "    else:\n",
    "        tetrode.set_device_channel_indices(np.arange(4))\n",
    "        tetrode.set_contact_ids(np.arange(4))\n",
    "        tet_add = tetrode\n",
    "        \n",
    "        plot_probe(tet_add, ax=ax2, with_device_index=True, with_contact_id=True)\n",
    "\n",
    "    pg.add_probe(tet_add)\n",
    "\n",
    "    if SINGLETETRODE:\n",
    "        break\n",
    "\n",
    "print(pg.get_global_device_channel_indices())\n",
    "if not SINGLETETRODE:\n",
    "    # ax1.set_xlim(plot_xlim)\n",
    "    # ax1.set_ylim(plot_ylim)\n",
    "    # ax1.set_zlim(plot_zlim)\n",
    "    ax2.set_xlim(plot_xlim)\n",
    "    ax2.set_ylim(plot_ylim)\n",
    "else:\n",
    "    ax1.remove()\n",
    "plt.show()"
   ]
  },
  {
   "cell_type": "markdown",
   "id": "b93828d7-9c56-43f7-84bb-5d150956d301",
   "metadata": {},
   "source": [
    "## Load .bin"
   ]
  },
  {
   "cell_type": "code",
   "execution_count": 52,
   "id": "106d93d7-cd3b-40c6-b032-7186ff424a40",
   "metadata": {},
   "outputs": [
    {
     "name": "stdout",
     "output_type": "stream",
     "text": [
      "Using .NPY.GZ file..\n",
      "BinaryRecordingExtractor: 4 channels - 25.0kHz - 1 segments - 24,025,000 samples \n",
      "                          961.00s (16.02 minutes) - float32 dtype - 366.59 MiB\n",
      "  file_paths: ['/home/dongjp/Documents/marshmountainsort/bins/1176_WT Bl6_6 half turns + 1-8th of full turn_right after turning_02-10-17/tmpgfwytxlc']\n",
      "<probeinterface.probegroup.ProbeGroup object at 0x7fb2e67ea2b0>\n"
     ]
    },
    {
     "data": {
      "text/html": [
       "<div>\n",
       "<style scoped>\n",
       "    .dataframe tbody tr th:only-of-type {\n",
       "        vertical-align: middle;\n",
       "    }\n",
       "\n",
       "    .dataframe tbody tr th {\n",
       "        vertical-align: top;\n",
       "    }\n",
       "\n",
       "    .dataframe thead th {\n",
       "        text-align: right;\n",
       "    }\n",
       "</style>\n",
       "<table border=\"1\" class=\"dataframe\">\n",
       "  <thead>\n",
       "    <tr style=\"text-align: right;\">\n",
       "      <th></th>\n",
       "      <th>probe_index</th>\n",
       "      <th>x</th>\n",
       "      <th>y</th>\n",
       "      <th>contact_shapes</th>\n",
       "      <th>radius</th>\n",
       "      <th>shank_ids</th>\n",
       "      <th>contact_ids</th>\n",
       "      <th>device_channel_indices</th>\n",
       "      <th>si_units</th>\n",
       "      <th>plane_axis_x_0</th>\n",
       "      <th>plane_axis_x_1</th>\n",
       "      <th>plane_axis_y_0</th>\n",
       "      <th>plane_axis_y_1</th>\n",
       "    </tr>\n",
       "  </thead>\n",
       "  <tbody>\n",
       "    <tr>\n",
       "      <th>0</th>\n",
       "      <td>0</td>\n",
       "      <td>1.000000e+01</td>\n",
       "      <td>0.000000e+00</td>\n",
       "      <td>circle</td>\n",
       "      <td>6.0</td>\n",
       "      <td></td>\n",
       "      <td>0</td>\n",
       "      <td>0</td>\n",
       "      <td>um</td>\n",
       "      <td>1.0</td>\n",
       "      <td>0.0</td>\n",
       "      <td>0.0</td>\n",
       "      <td>1.0</td>\n",
       "    </tr>\n",
       "    <tr>\n",
       "      <th>1</th>\n",
       "      <td>0</td>\n",
       "      <td>6.123234e-16</td>\n",
       "      <td>1.000000e+01</td>\n",
       "      <td>circle</td>\n",
       "      <td>6.0</td>\n",
       "      <td></td>\n",
       "      <td>1</td>\n",
       "      <td>1</td>\n",
       "      <td>um</td>\n",
       "      <td>1.0</td>\n",
       "      <td>0.0</td>\n",
       "      <td>0.0</td>\n",
       "      <td>1.0</td>\n",
       "    </tr>\n",
       "    <tr>\n",
       "      <th>2</th>\n",
       "      <td>0</td>\n",
       "      <td>-1.000000e+01</td>\n",
       "      <td>1.224647e-15</td>\n",
       "      <td>circle</td>\n",
       "      <td>6.0</td>\n",
       "      <td></td>\n",
       "      <td>2</td>\n",
       "      <td>2</td>\n",
       "      <td>um</td>\n",
       "      <td>1.0</td>\n",
       "      <td>0.0</td>\n",
       "      <td>0.0</td>\n",
       "      <td>1.0</td>\n",
       "    </tr>\n",
       "    <tr>\n",
       "      <th>3</th>\n",
       "      <td>0</td>\n",
       "      <td>-1.836970e-15</td>\n",
       "      <td>-1.000000e+01</td>\n",
       "      <td>circle</td>\n",
       "      <td>6.0</td>\n",
       "      <td></td>\n",
       "      <td>3</td>\n",
       "      <td>3</td>\n",
       "      <td>um</td>\n",
       "      <td>1.0</td>\n",
       "      <td>0.0</td>\n",
       "      <td>0.0</td>\n",
       "      <td>1.0</td>\n",
       "    </tr>\n",
       "  </tbody>\n",
       "</table>\n",
       "</div>"
      ],
      "text/plain": [
       "   probe_index             x             y contact_shapes  radius shank_ids  \\\n",
       "0            0  1.000000e+01  0.000000e+00         circle     6.0             \n",
       "1            0  6.123234e-16  1.000000e+01         circle     6.0             \n",
       "2            0 -1.000000e+01  1.224647e-15         circle     6.0             \n",
       "3            0 -1.836970e-15 -1.000000e+01         circle     6.0             \n",
       "\n",
       "  contact_ids  device_channel_indices si_units  plane_axis_x_0  \\\n",
       "0           0                       0       um             1.0   \n",
       "1           1                       1       um             1.0   \n",
       "2           2                       2       um             1.0   \n",
       "3           3                       3       um             1.0   \n",
       "\n",
       "   plane_axis_x_1  plane_axis_y_0  plane_axis_y_1  \n",
       "0             0.0             0.0             1.0  \n",
       "1             0.0             0.0             1.0  \n",
       "2             0.0             0.0             1.0  \n",
       "3             0.0             0.0             1.0  "
      ]
     },
     "execution_count": 52,
     "metadata": {},
     "output_type": "execute_result"
    }
   ],
   "source": [
    "# Load binaries. If SINGLETETRODE = False, load all tetrodes regardless of tetrode_name\n",
    "if not SINGLETETRODE:\n",
    "    full_raw_rec = se.read_binary(bin_file_path, sampling_frequency=f_s, dtype=np.float32, num_channels=ncol, gain_to_uV=1000)\n",
    "else:\n",
    "    if tetrode_name == 'ca3':\n",
    "        tet_bin_path = bin_file_path_ca3\n",
    "    elif tetrode_name == 'ca1s':\n",
    "        tet_bin_path = bin_file_path_ca1s\n",
    "    elif tetrode_name == 'ca1o':\n",
    "        tet_bin_path = bin_file_path_ca1o\n",
    "    else:\n",
    "        raise Exception(f'Unrecognized tetrode_name: {tetrode_name}')\n",
    "\n",
    "    tet_fcomp_path = tet_bin_path.parent / f\"{tet_bin_path.stem}.npy.gz\"\n",
    "    if tet_fcomp_path.is_file() and FAVORCOMP:\n",
    "        print(\"Using .NPY.GZ file..\")\n",
    "        with tempfile.NamedTemporaryFile(dir=tet_bin_path.parent) as tmp:\n",
    "            fcomp = gzip.GzipFile(tet_fcomp_path, \"r\")\n",
    "            bin_arr_recov = np.load(fcomp)\n",
    "            bin_arr_recov.tofile(tmp)\n",
    "\n",
    "            full_raw_rec = se.read_binary(tmp.name, sampling_frequency=f_s, dtype=np.float32, num_channels=ncol_tet, gain_to_uV=1000)\n",
    "            full_raw_rec = full_raw_rec.set_probes(pg)\n",
    "    else:\n",
    "        print(\"Using .BIN file..\")\n",
    "        full_raw_rec = se.read_binary(tet_bin_path, sampling_frequency=f_s, dtype=np.float32, num_channels=ncol_tet, gain_to_uV=1000)\n",
    "        full_raw_rec = full_raw_rec.set_probes(pg)\n",
    "\n",
    "print(full_raw_rec)\n",
    "print(full_raw_rec.get_probegroup())\n",
    "full_raw_rec.get_probegroup().to_dataframe(complete=True)"
   ]
  },
  {
   "cell_type": "code",
   "execution_count": 53,
   "id": "e145bb64-32ac-4cab-b278-c57ed7c4a839",
   "metadata": {},
   "outputs": [
    {
     "name": "stdout",
     "output_type": "stream",
     "text": [
      "Downsampled f_s for plotting: 1000 Hz\n"
     ]
    }
   ],
   "source": [
    "recording = full_raw_rec # load your recording using SpikeInterface\n",
    "freq_min = 400 # Hz\n",
    "freq_max = 8064 # Hz\n",
    "\n",
    "# Preprocess recording\n",
    "recording_prep = recording\n",
    "recording_prep = spre.common_reference(recording_prep, dtype=np.float32)\n",
    "recording_prep = spre.scale(recording_prep, gain=10, dtype=np.float32) # Scaling for whitening to work properly\n",
    "recording_prep = spre.whiten(recording_prep, dtype=np.float32)\n",
    "recording_prep = spre.bandpass_filter(recording_prep, freq_min=freq_min, freq_max=freq_max, dtype=np.float32)\n",
    "recording_preprocessed = recording_prep\n",
    "\n",
    "# Separately, downsample recording for plotting\n",
    "downsamp_factor = 25\n",
    "recording_downsamp = recording\n",
    "recording_downsamp = spre.bandpass_filter(recording_downsamp, freq_min=freq_min, freq_max=freq_max)\n",
    "recording_downsamp = spre.resample(recording_downsamp, resample_rate=f_s // downsamp_factor, dtype=np.float32)\n",
    "print(f\"Downsampled f_s for plotting: {f_s // downsamp_factor} Hz\")"
   ]
  },
  {
   "cell_type": "markdown",
   "id": "9a12c13c-2e09-433f-b52c-98469eacedf6",
   "metadata": {},
   "source": [
    "## Sort Spikes"
   ]
  },
  {
   "cell_type": "code",
   "execution_count": 54,
   "id": "abb8ec67-6420-46d8-9a7d-9e2f8babb942",
   "metadata": {
    "editable": true,
    "slideshow": {
     "slide_type": ""
    },
    "tags": [
     "raises-exception"
    ]
   },
   "outputs": [
    {
     "name": "stdout",
     "output_type": "stream",
     "text": [
      "/home/dongjp/Documents/marshmountainsort/temp\n",
      "/home/dongjp/Documents/marshmountainsort/temp/temp-1hod5ol1\n"
     ]
    },
    {
     "name": "stderr",
     "output_type": "stream",
     "text": [
      "write_binary_recording: 100%|#| 193/193 [00:12<00:00, 15.19i\n"
     ]
    },
    {
     "name": "stdout",
     "output_type": "stream",
     "text": [
      "Using the full recording for training: 961.0 sec\n",
      "Running phase 1 sorting\n",
      "Number of channels: 4\n",
      "Number of timepoints: 24025000\n",
      "Sampling frequency: 25000.0 Hz\n",
      "Channel 0: [10.  0.]\n",
      "Channel 1: [6.123234e-16 1.000000e+01]\n",
      "Channel 2: [-1.0000000e+01  1.2246468e-15]\n",
      "Channel 3: [-1.8369702e-15 -1.0000000e+01]\n",
      "Loading traces\n",
      "*** MS5 Elapsed time for load_traces: 0.000 seconds ***\n",
      "Detecting spikes\n",
      "\n",
      "Adjacency for detect spikes with channel radius 100\n",
      "[[0, 1, 2, 3], [0, 1, 2, 3], [0, 1, 2, 3], [0, 1, 2, 3]]\n",
      "\n",
      "m = 0 (nbhd size: 4)\n",
      "m = 1 (nbhd size: 4)\n",
      "m = 2 (nbhd size: 4)\n",
      "m = 3 (nbhd size: 4)\n",
      "Detected 0 spikes\n",
      "*** MS5 Elapsed time for detect_spikes: 1.194 seconds ***\n",
      "Removing duplicate times\n",
      "*** MS5 Elapsed time for remove_duplicate_times: 0.000 seconds ***\n",
      "Extracting 0 snippets\n",
      "*** MS5 Elapsed time for extract_snippets: 0.000 seconds ***\n",
      "Computing PCA features with npca=12\n",
      "*** MS5 Elapsed time for compute_pca_features: 0.000 seconds ***\n",
      "Isosplit6 clustering with npca_per_subdivision=10\n",
      "Found 0 clusters\n",
      "*** MS5 Elapsed time for isosplit6_subdivision_method: 0.000 seconds ***\n",
      "Computing templates\n",
      "*** MS5 Elapsed time for compute_templates: 0.000 seconds ***\n",
      "Determining optimal alignment of templates\n",
      "Template alignment converged.\n",
      "Align templates offsets:  []\n",
      "*** MS5 Elapsed time for align_templates: 0.000 seconds ***\n",
      "Aligning snippets\n",
      "*** MS5 Elapsed time for align_snippets: 0.000 seconds ***\n",
      "Clustering aligned snippets\n",
      "Computing PCA features with npca=12\n",
      "*** MS5 Elapsed time for compute_pca_features: 0.000 seconds ***\n",
      "Isosplit6 clustering with npca_per_subdivision=10\n",
      "*** MS5 Elapsed time for isosplit6_subdivision_method: 0.000 seconds ***\n",
      "Found 0 clusters after alignment\n",
      "Computing templates\n",
      "*** MS5 Elapsed time for compute_templates: 0.000 seconds ***\n",
      "Offsetting times to peak\n",
      "Offsets to peak: []\n",
      "*** MS5 Elapsed time for determine_offsets_to_peak: 0.000 seconds ***\n",
      "Sorting times\n",
      "*** MS5 Elapsed time for sorting times: 0.000 seconds ***\n",
      "Removing out of bounds times\n",
      "*** MS5 Elapsed time for removing out of bounds times: 0.000 seconds ***\n",
      "Reordering units\n",
      "*** MS5 Elapsed time for reordering units: 0.000 seconds ***\n",
      "Creating sorting object\n",
      "*** MS5 Elapsed time for creating sorting object: 0.000 seconds ***\n",
      "*** MS5 Elapsed time for SCHEME2 sorting_scheme1: 1.212 seconds ***\n",
      "*** MS5 Elapsed time for SCHEME2 get_times_labels_from_sorting: 0.000 seconds ***\n",
      "Loading training traces\n",
      "*** MS5 Elapsed time for SCHEME2 training_recording.get_traces: 0.000 seconds ***\n",
      "Training classifier\n",
      "*** MS5 Elapsed time for SCHEME2 training classifier step 1: 0.006 seconds ***\n",
      "Adding snippets from phase 1 sorting\n",
      "Fitting models\n",
      "*** MS5 Elapsed time for SCHEME2 fitting models: 0.049 seconds ***\n",
      "Chunk size: 1000.0 sec\n",
      "Time chunk 1 of 1\n",
      "Loading traces\n",
      "*** MS5 Elapsed time for SCHEME2 loading traces: 0.000 seconds ***\n",
      "Detecting spikes\n",
      "\n",
      "Adjacency for detect spikes with channel radius 100\n",
      "[[0, 1, 2, 3], [0, 1, 2, 3], [0, 1, 2, 3], [0, 1, 2, 3]]\n",
      "\n",
      "Scheme 2 detected 0 spikes in chunk 1 of 1\n",
      "*** MS5 Elapsed time for SCHEME2 detecting spikes: 0.424 seconds ***\n",
      "Extracting and classifying snippets\n",
      "*** MS5 Elapsed time for SCHEME2 extracting and classifying snippets: 0.000 seconds ***\n",
      "Updating events\n",
      "Removing duplicates\n",
      "*** MS5 Elapsed time for SCHEME2 updating events: 0.000 seconds ***\n",
      "Concatenating results\n",
      "*** MS5 Elapsed time for SCHEME2 concatenating results: 0.000 seconds ***\n",
      "Perorming label mapping\n",
      "*** MS5 Elapsed time for SCHEME2 label mapping: 0.000 seconds ***\n",
      "Creating sorting object\n",
      "*** MS5 Elapsed time for SCHEME2 creating sorting object: 0.000 seconds ***\n"
     ]
    }
   ],
   "source": [
    "print(temp_folder_path)\n",
    "\n",
    "if os.path.exists(temp_folder_path):\n",
    "    shutil.rmtree(temp_folder_path, ignore_errors=True)\n",
    "os.makedirs(temp_folder_path, exist_ok=True)\n",
    "\n",
    "try:\n",
    "    with TemporaryDirectory(dir=temp_folder_path, prefix='temp-') as tmpdir:\n",
    "        print(tmpdir)\n",
    "        \n",
    "        # cache the recording to a temporary directory for efficient reading\n",
    "        recording_cached = create_cached_recording(recording_preprocessed, folder=tmpdir)\n",
    "    \n",
    "        # use scheme 1\n",
    "        # sorting = ms5.sorting_scheme1(\n",
    "        #     recording=recording_cached,\n",
    "        #     sorting_parameters=ms5.Scheme1SortingParameters(detect_channel_radius=100)\n",
    "        # )\n",
    "    \n",
    "        # or use scheme 2\n",
    "        sorting = ms5.sorting_scheme2(\n",
    "            recording=recording_cached,\n",
    "            sorting_parameters=ms5.Scheme2SortingParameters(\n",
    "                phase1_detect_channel_radius=100,\n",
    "                detect_channel_radius=100,\n",
    "                # detect_sign=0,\n",
    "            )\n",
    "        )\n",
    "    \n",
    "        # # or use scheme 3\n",
    "        # sorting = ms5.sorting_scheme3(\n",
    "        #     recording=recording_cached,\n",
    "        #     sorting_parameters=ms5.Scheme3SortingParameters(...)\n",
    "        # )\n",
    "    \n",
    "        shutil.rmtree(tmpdir, ignore_errors=True)\n",
    "    \n",
    "    # Now you have a sorting object that you can save to disk or use for further analysis\n",
    "\n",
    "except OSError: # Weird bug with clearing the temporary directory\n",
    "    pass"
   ]
  },
  {
   "cell_type": "markdown",
   "id": "2b7fa326-c915-4db6-9d38-9ffde0c7e635",
   "metadata": {},
   "source": [
    "## Plot and Save Figures"
   ]
  },
  {
   "cell_type": "code",
   "execution_count": 55,
   "id": "9dc79702-ae48-402f-b9c2-5b6db5c2aec7",
   "metadata": {},
   "outputs": [
    {
     "name": "stderr",
     "output_type": "stream",
     "text": [
      "/tmp/ipykernel_3177885/3449385123.py:2: UserWarning: No units found!\n",
      "  warnings.warn(\"No units found!\")\n"
     ]
    },
    {
     "ename": "SystemExit",
     "evalue": "",
     "output_type": "error",
     "traceback": [
      "An exception has occurred, use %tb to see the full traceback.\n",
      "\u001b[0;31mSystemExit\u001b[0m\n"
     ]
    },
    {
     "name": "stderr",
     "output_type": "stream",
     "text": [
      "/home/dongjp/Documents/marshmountainsort/venv/lib64/python3.9/site-packages/IPython/core/interactiveshell.py:3558: UserWarning: To exit: use 'exit', 'quit', or Ctrl-D.\n",
      "  warn(\"To exit: use 'exit', 'quit', or Ctrl-D.\", stacklevel=1)\n"
     ]
    }
   ],
   "source": [
    "if sorting.get_num_units() == 0:\n",
    "    warnings.warn(\"No units found!\")\n",
    "    if SAVEFIGS:\n",
    "        os.makedirs(output_folder_path / f\"{tetrode_name}_NO_UNITS\", exist_ok=True)\n",
    "    sys.exit()"
   ]
  },
  {
   "cell_type": "code",
   "execution_count": null,
   "id": "3d398fc6-5711-4220-9908-dc3a4587870a",
   "metadata": {},
   "outputs": [],
   "source": [
    "print(sorting)\n",
    "print(output_folder_path)\n",
    "\n",
    "num_units = sorting.get_num_units()\n",
    "\n",
    "if SAVEFIGS:\n",
    "    # if os.path.exists(output_folder_path):\n",
    "    #     shutil.rmtree(output_folder_path, ignore_errors=True)\n",
    "    os.makedirs(output_folder_path, exist_ok=True)\n",
    "\n",
    "time_plotsample = 0 # s\n",
    "if SAVEFIGS:\n",
    "    time_plotsample_range = recording_preprocessed.get_duration()\n",
    "else:\n",
    "    time_plotsample_range = 50 # s\n",
    "\n",
    "print(f\"Plotting from {time_plotsample} s to {time_plotsample_range} s\")"
   ]
  },
  {
   "cell_type": "code",
   "execution_count": null,
   "id": "bf2abb93-b81e-4dde-9104-8779f1b2633f",
   "metadata": {},
   "outputs": [],
   "source": [
    "# Create filtered recording for waveform extraction\n",
    "recording_temps = recording\n",
    "recording_temps = spre.bandpass_filter(recording_temps, freq_min=400, freq_max=8064, dtype=np.float32)\n",
    "\n",
    "# Preview traces to be plotted\n",
    "sw.plot_traces(recording_downsamp, # Plot downsampled recording to not crash kernel \n",
    "               time_range=[0, 20], \n",
    "               show_channel_ids=True,\n",
    "              )"
   ]
  },
  {
   "cell_type": "code",
   "execution_count": null,
   "id": "582c3b14-d1ef-46b1-96f5-960d7a836f07",
   "metadata": {},
   "outputs": [],
   "source": [
    "# Extract waveforms from recording based on sorting\n",
    "we = si.extract_waveforms(recording=recording_temps, # Extract from filtered signals\n",
    "                          sorting=sorting, \n",
    "                          folder=base_folder_path / \"waveforms_dense\", \n",
    "                          sparse=False, \n",
    "                          overwrite=True,\n",
    "                          allow_unfiltered=True)\n",
    "print(we)\n",
    "\n",
    "# Calculate metrics for plotting\n",
    "corr = spost.compute_correlograms(we)\n",
    "pcs = spost.compute_principal_components(we)\n",
    "amps = spost.compute_spike_amplitudes(we)\n",
    "sloc = spost.compute_spike_locations(we, method=\"monopolar_triangulation\")\n",
    "tmet = spost.compute_template_metrics(we, include_multi_channel_metrics=False)\n",
    "sim = spost.compute_template_similarity(we)\n",
    "uloc = spost.compute_unit_locations(we, method=\"monopolar_triangulation\")\n"
   ]
  },
  {
   "cell_type": "code",
   "execution_count": null,
   "id": "fd4ef91b-d2a8-42c9-8d7a-eb4c5733832e",
   "metadata": {},
   "outputs": [],
   "source": [
    "# Set a unit coloring scheme\n",
    "unit_cmap = sw.get_unit_colors(sorting, \n",
    "                               map_name='gnuplot2',\n",
    "                               # color_engine='matplotlib',\n",
    "                               # color_engine='colorsys',\n",
    "                               # color_engine='distinctipy',\n",
    "                              )\n"
   ]
  },
  {
   "cell_type": "code",
   "execution_count": null,
   "id": "f1a41ec9-4720-4d14-868c-b50dd50f5716",
   "metadata": {},
   "outputs": [],
   "source": [
    "fig, ax = plt.subplots(2, 1, figsize=(10,5), sharex=True, gridspec_kw={'height_ratios':[1, 0.3]})\n",
    "plt.subplots_adjust(hspace=0)\n",
    "backend = \"matplotlib\"\n",
    "\n",
    "tstart = time.time()\n",
    "\n",
    "sw.plot_traces(recording_downsamp, # Plot downsampled recording to not crash kernel \n",
    "               time_range=[time_plotsample, time_plotsample + time_plotsample_range], \n",
    "               show_channel_ids=True,\n",
    "               backend=backend,\n",
    "               # color_groups=True,\n",
    "               # color='C0',\n",
    "               ax=ax[0],\n",
    "              )\n",
    "ax[0].set_ylabel(\"Datawave Channel\")\n",
    "ax[0].get_legend().remove()\n",
    "sw.plot_rasters(sorting, \n",
    "                time_range=[time_plotsample, time_plotsample + time_plotsample_range], \n",
    "                backend=backend,\n",
    "                color='black',\n",
    "                ax=ax[1],\n",
    "               )\n",
    "ax[1].set_ylabel(\"Unit Index\")\n",
    "ax[1].set_xlabel(\"Time (s)\")\n",
    "fig.suptitle(\"Raster Plot\", y=0.95)\n",
    "\n",
    "if SAVEFIGS:\n",
    "    plt.savefig(output_folder_path / f'{tetrode_name}_raster', bbox_inches='tight')\n",
    "plt.show()\n",
    "\n",
    "tend = time.time()\n",
    "print(f\"Time elapsed: {tend - tstart} seconds\")"
   ]
  },
  {
   "cell_type": "code",
   "execution_count": null,
   "id": "e502b75e-c399-42f1-89d9-d907c8a9d7aa",
   "metadata": {
    "editable": true,
    "slideshow": {
     "slide_type": ""
    },
    "tags": []
   },
   "outputs": [],
   "source": [
    "widg = sw.plot_template_similarity(we, display_diagonal_values=True, figsize=(1.5 * num_units, 1.5 * num_units))\n",
    "\n",
    "for (j, i), label in np.ndenumerate(sim):\n",
    "    widg.ax.text(i, j, round(label, 3), ha='center', va='center', bbox=dict(facecolor='white'))\n",
    "widg.ax.set_title(\"Template Similarity\")\n",
    "\n",
    "if SAVEFIGS:\n",
    "    plt.savefig(output_folder_path / f'{tetrode_name}_tempsim', bbox_inches='tight')\n",
    "plt.show()"
   ]
  },
  {
   "cell_type": "code",
   "execution_count": null,
   "id": "57e70a88-fc6f-4bbe-97aa-b7d99e03d3d3",
   "metadata": {},
   "outputs": [],
   "source": [
    "widg = sw.plot_amplitudes(we, plot_histograms=True, unit_colors=unit_cmap, figsize=(10, 5))\n",
    "widg.axes[0][0].set_title(\"Spike Amplitudes\")\n",
    "widg.axes[0][1].set_title(\"Amplitude Histogram\")\n",
    "\n",
    "widg.axes[0][0].patch.set_edgecolor('black')\n",
    "widg.axes[0][0].patch.set_linewidth(1)\n",
    "widg.axes[0][1].patch.set_edgecolor('black')\n",
    "widg.axes[0][1].patch.set_linewidth(1)\n",
    "# widg.axes[0][1].spines[\"right\"].set_visible(True)\n",
    "\n",
    "if SAVEFIGS:\n",
    "    plt.savefig(output_folder_path / f'{tetrode_name}_spikeamps', bbox_inches='tight')\n",
    "plt.show()"
   ]
  },
  {
   "cell_type": "code",
   "execution_count": null,
   "id": "4ebb4d26-412b-447d-9b56-1c0cc98d0d6d",
   "metadata": {},
   "outputs": [],
   "source": [
    "# fig, ax = plt.subplots(1, 1, figsize=(8,5))\n",
    "# print(we.channel_ids)\n",
    "\n",
    "widg = sw.plot_unit_templates(we, \n",
    "                       # channel_ids=np.array([[0]]),\n",
    "                       # channel_ids=[1],\n",
    "                       # unit_ids=[1],\n",
    "                       unit_colors=unit_cmap,\n",
    "                       scale=3e15,\n",
    "                       # backend=\"matplotlib\", \n",
    "                       # max_spikes_per_unit=100,\n",
    "                       templates_percentile_shading=None,\n",
    "                       # same_axis=True,\n",
    "                       # plot_channels=True,\n",
    "                       alpha_waveforms=0.25,\n",
    "                       figsize=(4.5 * min(num_units, 5), 4 * (num_units // 5 + 1) ),\n",
    "                       axis_equal=True,\n",
    "                      )\n",
    "\n",
    "widg.figure.suptitle(\"Unit Templates\", y=1.03, fontsize='x-large')\n",
    "\n",
    "# ax.set_xlim(2100, 1900)\n",
    "# ax.set_ylim(-100, 100)\n",
    "\n",
    "if SAVEFIGS:\n",
    "    plt.savefig(output_folder_path / f'{tetrode_name}_unittemp', bbox_inches='tight')\n",
    "plt.show()"
   ]
  }
 ],
 "metadata": {
  "kernelspec": {
   "display_name": "venv",
   "language": "python",
   "name": "python3"
  },
  "language_info": {
   "codemirror_mode": {
    "name": "ipython",
    "version": 3
   },
   "file_extension": ".py",
   "mimetype": "text/x-python",
   "name": "python",
   "nbconvert_exporter": "python",
   "pygments_lexer": "ipython3",
   "version": "3.9.14"
  }
 },
 "nbformat": 4,
 "nbformat_minor": 5
}
